{
 "cells": [
  {
   "cell_type": "markdown",
   "metadata": {},
   "source": [
    "# User Engagement"
   ]
  },
  {
   "cell_type": "markdown",
   "metadata": {},
   "source": [
    "Measure the difference of user engagement after a new UI design"
   ]
  },
  {
   "cell_type": "code",
   "execution_count": 1,
   "metadata": {},
   "outputs": [],
   "source": [
    "import os\n",
    "import numpy as np\n",
    "import matplotlib.pyplot as plt\n",
    "import pandas as pd\n",
    "import seaborn as sns\n",
    "\n",
    "from sklearn.metrics import r2_score\n",
    "from scipy import stats\n",
    "import statsmodels.stats.api as sms\n",
    "%matplotlib inline"
   ]
  },
  {
   "cell_type": "code",
   "execution_count": 165,
   "metadata": {},
   "outputs": [],
   "source": [
    "df_t1 = pd.read_csv('t1_user_active_min.csv')\n",
    "df_t2 = pd.read_csv('t2_user_variant.csv')\n",
    "df_t3 = pd.read_csv('t3_user_active_min_pre.csv')\n",
    "df_t4 = pd.read_csv('t4_user_attributes.csv')"
   ]
  },
  {
   "cell_type": "code",
   "execution_count": 166,
   "metadata": {},
   "outputs": [
    {
     "data": {
      "text/html": [
       "<div>\n",
       "<style scoped>\n",
       "    .dataframe tbody tr th:only-of-type {\n",
       "        vertical-align: middle;\n",
       "    }\n",
       "\n",
       "    .dataframe tbody tr th {\n",
       "        vertical-align: top;\n",
       "    }\n",
       "\n",
       "    .dataframe thead th {\n",
       "        text-align: right;\n",
       "    }\n",
       "</style>\n",
       "<table border=\"1\" class=\"dataframe\">\n",
       "  <thead>\n",
       "    <tr style=\"text-align: right;\">\n",
       "      <th></th>\n",
       "      <th>uid</th>\n",
       "      <th>dt</th>\n",
       "      <th>active_mins</th>\n",
       "    </tr>\n",
       "  </thead>\n",
       "  <tbody>\n",
       "    <tr>\n",
       "      <th>0</th>\n",
       "      <td>0</td>\n",
       "      <td>2019-02-22</td>\n",
       "      <td>5.0</td>\n",
       "    </tr>\n",
       "    <tr>\n",
       "      <th>1</th>\n",
       "      <td>0</td>\n",
       "      <td>2019-03-11</td>\n",
       "      <td>5.0</td>\n",
       "    </tr>\n",
       "    <tr>\n",
       "      <th>2</th>\n",
       "      <td>0</td>\n",
       "      <td>2019-03-18</td>\n",
       "      <td>3.0</td>\n",
       "    </tr>\n",
       "    <tr>\n",
       "      <th>3</th>\n",
       "      <td>0</td>\n",
       "      <td>2019-03-22</td>\n",
       "      <td>4.0</td>\n",
       "    </tr>\n",
       "    <tr>\n",
       "      <th>4</th>\n",
       "      <td>0</td>\n",
       "      <td>2019-04-03</td>\n",
       "      <td>9.0</td>\n",
       "    </tr>\n",
       "  </tbody>\n",
       "</table>\n",
       "</div>"
      ],
      "text/plain": [
       "   uid          dt  active_mins\n",
       "0    0  2019-02-22          5.0\n",
       "1    0  2019-03-11          5.0\n",
       "2    0  2019-03-18          3.0\n",
       "3    0  2019-03-22          4.0\n",
       "4    0  2019-04-03          9.0"
      ]
     },
     "execution_count": 166,
     "metadata": {},
     "output_type": "execute_result"
    }
   ],
   "source": [
    "df_t1.head()"
   ]
  },
  {
   "cell_type": "code",
   "execution_count": 167,
   "metadata": {},
   "outputs": [
    {
     "data": {
      "text/html": [
       "<div>\n",
       "<style scoped>\n",
       "    .dataframe tbody tr th:only-of-type {\n",
       "        vertical-align: middle;\n",
       "    }\n",
       "\n",
       "    .dataframe tbody tr th {\n",
       "        vertical-align: top;\n",
       "    }\n",
       "\n",
       "    .dataframe thead th {\n",
       "        text-align: right;\n",
       "    }\n",
       "</style>\n",
       "<table border=\"1\" class=\"dataframe\">\n",
       "  <thead>\n",
       "    <tr style=\"text-align: right;\">\n",
       "      <th></th>\n",
       "      <th>uid</th>\n",
       "      <th>active_mins</th>\n",
       "    </tr>\n",
       "  </thead>\n",
       "  <tbody>\n",
       "    <tr>\n",
       "      <th>count</th>\n",
       "      <td>1.066402e+06</td>\n",
       "      <td>1.066402e+06</td>\n",
       "    </tr>\n",
       "    <tr>\n",
       "      <th>mean</th>\n",
       "      <td>2.422100e+04</td>\n",
       "      <td>3.616809e+01</td>\n",
       "    </tr>\n",
       "    <tr>\n",
       "      <th>std</th>\n",
       "      <td>1.417358e+04</td>\n",
       "      <td>1.270484e+03</td>\n",
       "    </tr>\n",
       "    <tr>\n",
       "      <th>min</th>\n",
       "      <td>0.000000e+00</td>\n",
       "      <td>1.000000e+00</td>\n",
       "    </tr>\n",
       "    <tr>\n",
       "      <th>25%</th>\n",
       "      <td>1.202000e+04</td>\n",
       "      <td>2.000000e+00</td>\n",
       "    </tr>\n",
       "    <tr>\n",
       "      <th>50%</th>\n",
       "      <td>2.394100e+04</td>\n",
       "      <td>5.000000e+00</td>\n",
       "    </tr>\n",
       "    <tr>\n",
       "      <th>75%</th>\n",
       "      <td>3.618100e+04</td>\n",
       "      <td>1.700000e+01</td>\n",
       "    </tr>\n",
       "    <tr>\n",
       "      <th>max</th>\n",
       "      <td>4.999900e+04</td>\n",
       "      <td>9.999900e+04</td>\n",
       "    </tr>\n",
       "  </tbody>\n",
       "</table>\n",
       "</div>"
      ],
      "text/plain": [
       "                uid   active_mins\n",
       "count  1.066402e+06  1.066402e+06\n",
       "mean   2.422100e+04  3.616809e+01\n",
       "std    1.417358e+04  1.270484e+03\n",
       "min    0.000000e+00  1.000000e+00\n",
       "25%    1.202000e+04  2.000000e+00\n",
       "50%    2.394100e+04  5.000000e+00\n",
       "75%    3.618100e+04  1.700000e+01\n",
       "max    4.999900e+04  9.999900e+04"
      ]
     },
     "execution_count": 167,
     "metadata": {},
     "output_type": "execute_result"
    }
   ],
   "source": [
    "df_t1.describe()"
   ]
  },
  {
   "cell_type": "code",
   "execution_count": 168,
   "metadata": {},
   "outputs": [
    {
     "data": {
      "text/html": [
       "<div>\n",
       "<style scoped>\n",
       "    .dataframe tbody tr th:only-of-type {\n",
       "        vertical-align: middle;\n",
       "    }\n",
       "\n",
       "    .dataframe tbody tr th {\n",
       "        vertical-align: top;\n",
       "    }\n",
       "\n",
       "    .dataframe thead th {\n",
       "        text-align: right;\n",
       "    }\n",
       "</style>\n",
       "<table border=\"1\" class=\"dataframe\">\n",
       "  <thead>\n",
       "    <tr style=\"text-align: right;\">\n",
       "      <th></th>\n",
       "      <th>uid</th>\n",
       "      <th>variant_number</th>\n",
       "      <th>dt</th>\n",
       "      <th>signup_date</th>\n",
       "    </tr>\n",
       "  </thead>\n",
       "  <tbody>\n",
       "    <tr>\n",
       "      <th>0</th>\n",
       "      <td>0</td>\n",
       "      <td>0</td>\n",
       "      <td>2019-02-06</td>\n",
       "      <td>2018-09-24</td>\n",
       "    </tr>\n",
       "    <tr>\n",
       "      <th>1</th>\n",
       "      <td>1</td>\n",
       "      <td>0</td>\n",
       "      <td>2019-02-06</td>\n",
       "      <td>2016-11-07</td>\n",
       "    </tr>\n",
       "    <tr>\n",
       "      <th>2</th>\n",
       "      <td>2</td>\n",
       "      <td>0</td>\n",
       "      <td>2019-02-06</td>\n",
       "      <td>2018-09-17</td>\n",
       "    </tr>\n",
       "    <tr>\n",
       "      <th>3</th>\n",
       "      <td>3</td>\n",
       "      <td>0</td>\n",
       "      <td>2019-02-06</td>\n",
       "      <td>2018-03-04</td>\n",
       "    </tr>\n",
       "    <tr>\n",
       "      <th>4</th>\n",
       "      <td>4</td>\n",
       "      <td>0</td>\n",
       "      <td>2019-02-06</td>\n",
       "      <td>2017-03-09</td>\n",
       "    </tr>\n",
       "  </tbody>\n",
       "</table>\n",
       "</div>"
      ],
      "text/plain": [
       "   uid  variant_number          dt signup_date\n",
       "0    0               0  2019-02-06  2018-09-24\n",
       "1    1               0  2019-02-06  2016-11-07\n",
       "2    2               0  2019-02-06  2018-09-17\n",
       "3    3               0  2019-02-06  2018-03-04\n",
       "4    4               0  2019-02-06  2017-03-09"
      ]
     },
     "execution_count": 168,
     "metadata": {},
     "output_type": "execute_result"
    }
   ],
   "source": [
    "df_t2.head()"
   ]
  },
  {
   "cell_type": "code",
   "execution_count": 169,
   "metadata": {},
   "outputs": [
    {
     "data": {
      "text/html": [
       "<div>\n",
       "<style scoped>\n",
       "    .dataframe tbody tr th:only-of-type {\n",
       "        vertical-align: middle;\n",
       "    }\n",
       "\n",
       "    .dataframe tbody tr th {\n",
       "        vertical-align: top;\n",
       "    }\n",
       "\n",
       "    .dataframe thead th {\n",
       "        text-align: right;\n",
       "    }\n",
       "</style>\n",
       "<table border=\"1\" class=\"dataframe\">\n",
       "  <thead>\n",
       "    <tr style=\"text-align: right;\">\n",
       "      <th></th>\n",
       "      <th>uid</th>\n",
       "      <th>variant_number</th>\n",
       "    </tr>\n",
       "  </thead>\n",
       "  <tbody>\n",
       "    <tr>\n",
       "      <th>count</th>\n",
       "      <td>50000.000000</td>\n",
       "      <td>50000.000000</td>\n",
       "    </tr>\n",
       "    <tr>\n",
       "      <th>mean</th>\n",
       "      <td>24999.500000</td>\n",
       "      <td>0.200000</td>\n",
       "    </tr>\n",
       "    <tr>\n",
       "      <th>std</th>\n",
       "      <td>14433.901067</td>\n",
       "      <td>0.400004</td>\n",
       "    </tr>\n",
       "    <tr>\n",
       "      <th>min</th>\n",
       "      <td>0.000000</td>\n",
       "      <td>0.000000</td>\n",
       "    </tr>\n",
       "    <tr>\n",
       "      <th>25%</th>\n",
       "      <td>12499.750000</td>\n",
       "      <td>0.000000</td>\n",
       "    </tr>\n",
       "    <tr>\n",
       "      <th>50%</th>\n",
       "      <td>24999.500000</td>\n",
       "      <td>0.000000</td>\n",
       "    </tr>\n",
       "    <tr>\n",
       "      <th>75%</th>\n",
       "      <td>37499.250000</td>\n",
       "      <td>0.000000</td>\n",
       "    </tr>\n",
       "    <tr>\n",
       "      <th>max</th>\n",
       "      <td>49999.000000</td>\n",
       "      <td>1.000000</td>\n",
       "    </tr>\n",
       "  </tbody>\n",
       "</table>\n",
       "</div>"
      ],
      "text/plain": [
       "                uid  variant_number\n",
       "count  50000.000000    50000.000000\n",
       "mean   24999.500000        0.200000\n",
       "std    14433.901067        0.400004\n",
       "min        0.000000        0.000000\n",
       "25%    12499.750000        0.000000\n",
       "50%    24999.500000        0.000000\n",
       "75%    37499.250000        0.000000\n",
       "max    49999.000000        1.000000"
      ]
     },
     "execution_count": 169,
     "metadata": {},
     "output_type": "execute_result"
    }
   ],
   "source": [
    "df_t2.describe()"
   ]
  },
  {
   "cell_type": "code",
   "execution_count": 170,
   "metadata": {},
   "outputs": [
    {
     "data": {
      "text/plain": [
       "<matplotlib.axes._subplots.AxesSubplot at 0x1d7a265c470>"
      ]
     },
     "execution_count": 170,
     "metadata": {},
     "output_type": "execute_result"
    },
    {
     "data": {
      "image/png": "[encoded data removed]",
      "text/plain": [
       "<Figure size 432x288 with 1 Axes>"
      ]
     },
     "metadata": {
      "needs_background": "light"
     },
     "output_type": "display_data"
    }
   ],
   "source": [
    "df_t2['variant_number'].plot()"
   ]
  },
  {
   "cell_type": "code",
   "execution_count": 171,
   "metadata": {},
   "outputs": [
    {
     "name": "stdout",
     "output_type": "stream",
     "text": [
      "1066402\n"
     ]
    }
   ],
   "source": [
    "print(len(df_t1))"
   ]
  },
  {
   "cell_type": "code",
   "execution_count": 172,
   "metadata": {},
   "outputs": [
    {
     "name": "stdout",
     "output_type": "stream",
     "text": [
      "1066230\n"
     ]
    }
   ],
   "source": [
    "# remove outliers\n",
    "\n",
    "df_t1['z_score'] = np.abs(stats.zscore(df_t1['active_mins']))\n",
    "df_t1 = df_t1[df_t1['z_score']<3]\n",
    "print(len(df_t1))"
   ]
  },
  {
   "cell_type": "code",
   "execution_count": 173,
   "metadata": {},
   "outputs": [
    {
     "data": {
      "text/plain": [
       "<matplotlib.axes._subplots.AxesSubplot at 0x1d7a263c1d0>"
      ]
     },
     "execution_count": 173,
     "metadata": {},
     "output_type": "execute_result"
    },
    {
     "data": {
      "image/png": "[encoded data removed]",
      "text/plain": [
       "<Figure size 432x288 with 1 Axes>"
      ]
     },
     "metadata": {
      "needs_background": "light"
     },
     "output_type": "display_data"
    }
   ],
   "source": [
    "df_t1['z_score'].plot()"
   ]
  },
  {
   "cell_type": "code",
   "execution_count": 174,
   "metadata": {},
   "outputs": [
    {
     "data": {
      "text/plain": [
       "<matplotlib.axes._subplots.AxesSubplot at 0x1d7a27472e8>"
      ]
     },
     "execution_count": 174,
     "metadata": {},
     "output_type": "execute_result"
    },
    {
     "data": {
      "image/png": "[encoded data removed]",
      "text/plain": [
       "<Figure size 432x288 with 1 Axes>"
      ]
     },
     "metadata": {
      "needs_background": "light"
     },
     "output_type": "display_data"
    }
   ],
   "source": [
    "sns.distplot(df_t1['z_score'])"
   ]
  },
  {
   "cell_type": "code",
   "execution_count": 175,
   "metadata": {},
   "outputs": [
    {
     "data": {
      "text/html": [
       "<div>\n",
       "<style scoped>\n",
       "    .dataframe tbody tr th:only-of-type {\n",
       "        vertical-align: middle;\n",
       "    }\n",
       "\n",
       "    .dataframe tbody tr th {\n",
       "        vertical-align: top;\n",
       "    }\n",
       "\n",
       "    .dataframe thead th {\n",
       "        text-align: right;\n",
       "    }\n",
       "</style>\n",
       "<table border=\"1\" class=\"dataframe\">\n",
       "  <thead>\n",
       "    <tr style=\"text-align: right;\">\n",
       "      <th></th>\n",
       "      <th>uid</th>\n",
       "      <th>active_mins</th>\n",
       "      <th>z_score</th>\n",
       "    </tr>\n",
       "  </thead>\n",
       "  <tbody>\n",
       "    <tr>\n",
       "      <th>0</th>\n",
       "      <td>0</td>\n",
       "      <td>43.0</td>\n",
       "      <td>0.336238</td>\n",
       "    </tr>\n",
       "    <tr>\n",
       "      <th>1</th>\n",
       "      <td>1</td>\n",
       "      <td>15205.0</td>\n",
       "      <td>9.393575</td>\n",
       "    </tr>\n",
       "    <tr>\n",
       "      <th>2</th>\n",
       "      <td>2</td>\n",
       "      <td>17.0</td>\n",
       "      <td>0.185895</td>\n",
       "    </tr>\n",
       "    <tr>\n",
       "      <th>3</th>\n",
       "      <td>3</td>\n",
       "      <td>77.0</td>\n",
       "      <td>0.622625</td>\n",
       "    </tr>\n",
       "    <tr>\n",
       "      <th>4</th>\n",
       "      <td>4</td>\n",
       "      <td>39.0</td>\n",
       "      <td>0.538663</td>\n",
       "    </tr>\n",
       "  </tbody>\n",
       "</table>\n",
       "</div>"
      ],
      "text/plain": [
       "   uid  active_mins   z_score\n",
       "0    0         43.0  0.336238\n",
       "1    1      15205.0  9.393575\n",
       "2    2         17.0  0.185895\n",
       "3    3         77.0  0.622625\n",
       "4    4         39.0  0.538663"
      ]
     },
     "execution_count": 175,
     "metadata": {},
     "output_type": "execute_result"
    }
   ],
   "source": [
    "# df1 groupby id\n",
    "df_t1_grouped = df_t1.groupby(['uid'],as_index=False)\n",
    "df_t1_sum = df_t1_grouped.sum()\n",
    "df_t1_sum.head()"
   ]
  },
  {
   "cell_type": "code",
   "execution_count": 176,
   "metadata": {},
   "outputs": [
    {
     "data": {
      "text/html": [
       "<div>\n",
       "<style scoped>\n",
       "    .dataframe tbody tr th:only-of-type {\n",
       "        vertical-align: middle;\n",
       "    }\n",
       "\n",
       "    .dataframe tbody tr th {\n",
       "        vertical-align: top;\n",
       "    }\n",
       "\n",
       "    .dataframe thead th {\n",
       "        text-align: right;\n",
       "    }\n",
       "</style>\n",
       "<table border=\"1\" class=\"dataframe\">\n",
       "  <thead>\n",
       "    <tr style=\"text-align: right;\">\n",
       "      <th></th>\n",
       "      <th>uid</th>\n",
       "      <th>active_mins</th>\n",
       "      <th>z_score</th>\n",
       "    </tr>\n",
       "  </thead>\n",
       "  <tbody>\n",
       "    <tr>\n",
       "      <th>count</th>\n",
       "      <td>46633.000000</td>\n",
       "      <td>46633.000000</td>\n",
       "      <td>46633.000000</td>\n",
       "    </tr>\n",
       "    <tr>\n",
       "      <th>mean</th>\n",
       "      <td>24922.194433</td>\n",
       "      <td>458.256964</td>\n",
       "      <td>0.606700</td>\n",
       "    </tr>\n",
       "    <tr>\n",
       "      <th>std</th>\n",
       "      <td>14416.635209</td>\n",
       "      <td>1658.819943</td>\n",
       "      <td>1.041860</td>\n",
       "    </tr>\n",
       "    <tr>\n",
       "      <th>min</th>\n",
       "      <td>0.000000</td>\n",
       "      <td>1.000000</td>\n",
       "      <td>0.000132</td>\n",
       "    </tr>\n",
       "    <tr>\n",
       "      <th>25%</th>\n",
       "      <td>12446.000000</td>\n",
       "      <td>18.000000</td>\n",
       "      <td>0.145621</td>\n",
       "    </tr>\n",
       "    <tr>\n",
       "      <th>50%</th>\n",
       "      <td>24898.000000</td>\n",
       "      <td>55.000000</td>\n",
       "      <td>0.347258</td>\n",
       "    </tr>\n",
       "    <tr>\n",
       "      <th>75%</th>\n",
       "      <td>37374.000000</td>\n",
       "      <td>199.000000</td>\n",
       "      <td>0.758536</td>\n",
       "    </tr>\n",
       "    <tr>\n",
       "      <th>max</th>\n",
       "      <td>49999.000000</td>\n",
       "      <td>46742.000000</td>\n",
       "      <td>33.915468</td>\n",
       "    </tr>\n",
       "  </tbody>\n",
       "</table>\n",
       "</div>"
      ],
      "text/plain": [
       "                uid   active_mins       z_score\n",
       "count  46633.000000  46633.000000  46633.000000\n",
       "mean   24922.194433    458.256964      0.606700\n",
       "std    14416.635209   1658.819943      1.041860\n",
       "min        0.000000      1.000000      0.000132\n",
       "25%    12446.000000     18.000000      0.145621\n",
       "50%    24898.000000     55.000000      0.347258\n",
       "75%    37374.000000    199.000000      0.758536\n",
       "max    49999.000000  46742.000000     33.915468"
      ]
     },
     "execution_count": 176,
     "metadata": {},
     "output_type": "execute_result"
    }
   ],
   "source": [
    "df_t1_sum.describe()"
   ]
  },
  {
   "cell_type": "code",
   "execution_count": 177,
   "metadata": {},
   "outputs": [],
   "source": [
    "# df_t1_sum.dtypes"
   ]
  },
  {
   "cell_type": "code",
   "execution_count": 178,
   "metadata": {},
   "outputs": [],
   "source": [
    "# df_t2.dtypes"
   ]
  },
  {
   "cell_type": "code",
   "execution_count": 179,
   "metadata": {},
   "outputs": [],
   "source": [
    "# sns.distplot(df_t1_sum['active_mins'])"
   ]
  },
  {
   "cell_type": "markdown",
   "metadata": {},
   "source": [
    "# t-test using table 1 & 2"
   ]
  },
  {
   "cell_type": "code",
   "execution_count": 180,
   "metadata": {},
   "outputs": [
    {
     "data": {
      "text/html": [
       "<div>\n",
       "<style scoped>\n",
       "    .dataframe tbody tr th:only-of-type {\n",
       "        vertical-align: middle;\n",
       "    }\n",
       "\n",
       "    .dataframe tbody tr th {\n",
       "        vertical-align: top;\n",
       "    }\n",
       "\n",
       "    .dataframe thead th {\n",
       "        text-align: right;\n",
       "    }\n",
       "</style>\n",
       "<table border=\"1\" class=\"dataframe\">\n",
       "  <thead>\n",
       "    <tr style=\"text-align: right;\">\n",
       "      <th></th>\n",
       "      <th>uid</th>\n",
       "      <th>active_mins</th>\n",
       "      <th>z_score</th>\n",
       "      <th>variant_number</th>\n",
       "      <th>dt</th>\n",
       "      <th>signup_date</th>\n",
       "    </tr>\n",
       "  </thead>\n",
       "  <tbody>\n",
       "    <tr>\n",
       "      <th>0</th>\n",
       "      <td>0</td>\n",
       "      <td>43.0</td>\n",
       "      <td>0.336238</td>\n",
       "      <td>0</td>\n",
       "      <td>2019-02-06</td>\n",
       "      <td>2018-09-24</td>\n",
       "    </tr>\n",
       "    <tr>\n",
       "      <th>1</th>\n",
       "      <td>1</td>\n",
       "      <td>15205.0</td>\n",
       "      <td>9.393575</td>\n",
       "      <td>0</td>\n",
       "      <td>2019-02-06</td>\n",
       "      <td>2016-11-07</td>\n",
       "    </tr>\n",
       "    <tr>\n",
       "      <th>2</th>\n",
       "      <td>2</td>\n",
       "      <td>17.0</td>\n",
       "      <td>0.185895</td>\n",
       "      <td>0</td>\n",
       "      <td>2019-02-06</td>\n",
       "      <td>2018-09-17</td>\n",
       "    </tr>\n",
       "    <tr>\n",
       "      <th>3</th>\n",
       "      <td>3</td>\n",
       "      <td>77.0</td>\n",
       "      <td>0.622625</td>\n",
       "      <td>0</td>\n",
       "      <td>2019-02-06</td>\n",
       "      <td>2018-03-04</td>\n",
       "    </tr>\n",
       "    <tr>\n",
       "      <th>4</th>\n",
       "      <td>4</td>\n",
       "      <td>39.0</td>\n",
       "      <td>0.538663</td>\n",
       "      <td>0</td>\n",
       "      <td>2019-02-06</td>\n",
       "      <td>2017-03-09</td>\n",
       "    </tr>\n",
       "  </tbody>\n",
       "</table>\n",
       "</div>"
      ],
      "text/plain": [
       "   uid  active_mins   z_score  variant_number          dt signup_date\n",
       "0    0         43.0  0.336238               0  2019-02-06  2018-09-24\n",
       "1    1      15205.0  9.393575               0  2019-02-06  2016-11-07\n",
       "2    2         17.0  0.185895               0  2019-02-06  2018-09-17\n",
       "3    3         77.0  0.622625               0  2019-02-06  2018-03-04\n",
       "4    4         39.0  0.538663               0  2019-02-06  2017-03-09"
      ]
     },
     "execution_count": 180,
     "metadata": {},
     "output_type": "execute_result"
    }
   ],
   "source": [
    "# combine df_t1_sum with df_t2\n",
    "df_t12 = pd.merge(df_t1_sum,df_t2,how = 'right',on = 'uid')\n",
    "df_t12.head()"
   ]
  },
  {
   "cell_type": "code",
   "execution_count": 181,
   "metadata": {},
   "outputs": [
    {
     "data": {
      "text/plain": [
       "(50000, 6)"
      ]
     },
     "execution_count": 181,
     "metadata": {},
     "output_type": "execute_result"
    }
   ],
   "source": [
    "df_t12.shape"
   ]
  },
  {
   "cell_type": "code",
   "execution_count": 182,
   "metadata": {},
   "outputs": [],
   "source": [
    "df_t12_nan = df_t12.dropna(subset=['active_mins'])"
   ]
  },
  {
   "cell_type": "code",
   "execution_count": 183,
   "metadata": {},
   "outputs": [
    {
     "data": {
      "text/html": [
       "<div>\n",
       "<style scoped>\n",
       "    .dataframe tbody tr th:only-of-type {\n",
       "        vertical-align: middle;\n",
       "    }\n",
       "\n",
       "    .dataframe tbody tr th {\n",
       "        vertical-align: top;\n",
       "    }\n",
       "\n",
       "    .dataframe thead th {\n",
       "        text-align: right;\n",
       "    }\n",
       "</style>\n",
       "<table border=\"1\" class=\"dataframe\">\n",
       "  <thead>\n",
       "    <tr style=\"text-align: right;\">\n",
       "      <th></th>\n",
       "      <th>uid</th>\n",
       "      <th>active_mins</th>\n",
       "      <th>z_score</th>\n",
       "      <th>variant_number</th>\n",
       "      <th>dt</th>\n",
       "      <th>signup_date</th>\n",
       "    </tr>\n",
       "  </thead>\n",
       "  <tbody>\n",
       "    <tr>\n",
       "      <th>0</th>\n",
       "      <td>0</td>\n",
       "      <td>43.0</td>\n",
       "      <td>0.336238</td>\n",
       "      <td>0</td>\n",
       "      <td>2019-02-06</td>\n",
       "      <td>2018-09-24</td>\n",
       "    </tr>\n",
       "    <tr>\n",
       "      <th>1</th>\n",
       "      <td>1</td>\n",
       "      <td>15205.0</td>\n",
       "      <td>9.393575</td>\n",
       "      <td>0</td>\n",
       "      <td>2019-02-06</td>\n",
       "      <td>2016-11-07</td>\n",
       "    </tr>\n",
       "    <tr>\n",
       "      <th>2</th>\n",
       "      <td>2</td>\n",
       "      <td>17.0</td>\n",
       "      <td>0.185895</td>\n",
       "      <td>0</td>\n",
       "      <td>2019-02-06</td>\n",
       "      <td>2018-09-17</td>\n",
       "    </tr>\n",
       "    <tr>\n",
       "      <th>3</th>\n",
       "      <td>3</td>\n",
       "      <td>77.0</td>\n",
       "      <td>0.622625</td>\n",
       "      <td>0</td>\n",
       "      <td>2019-02-06</td>\n",
       "      <td>2018-03-04</td>\n",
       "    </tr>\n",
       "    <tr>\n",
       "      <th>4</th>\n",
       "      <td>4</td>\n",
       "      <td>39.0</td>\n",
       "      <td>0.538663</td>\n",
       "      <td>0</td>\n",
       "      <td>2019-02-06</td>\n",
       "      <td>2017-03-09</td>\n",
       "    </tr>\n",
       "  </tbody>\n",
       "</table>\n",
       "</div>"
      ],
      "text/plain": [
       "   uid  active_mins   z_score  variant_number          dt signup_date\n",
       "0    0         43.0  0.336238               0  2019-02-06  2018-09-24\n",
       "1    1      15205.0  9.393575               0  2019-02-06  2016-11-07\n",
       "2    2         17.0  0.185895               0  2019-02-06  2018-09-17\n",
       "3    3         77.0  0.622625               0  2019-02-06  2018-03-04\n",
       "4    4         39.0  0.538663               0  2019-02-06  2017-03-09"
      ]
     },
     "execution_count": 183,
     "metadata": {},
     "output_type": "execute_result"
    }
   ],
   "source": [
    "df_t12_nan.head()"
   ]
  },
  {
   "cell_type": "code",
   "execution_count": 184,
   "metadata": {},
   "outputs": [
    {
     "data": {
      "text/plain": [
       "(46633, 6)"
      ]
     },
     "execution_count": 184,
     "metadata": {},
     "output_type": "execute_result"
    }
   ],
   "source": [
    "df_t12_nan.shape"
   ]
  },
  {
   "cell_type": "code",
   "execution_count": 185,
   "metadata": {},
   "outputs": [
    {
     "data": {
      "text/html": [
       "<div>\n",
       "<style scoped>\n",
       "    .dataframe tbody tr th:only-of-type {\n",
       "        vertical-align: middle;\n",
       "    }\n",
       "\n",
       "    .dataframe tbody tr th {\n",
       "        vertical-align: top;\n",
       "    }\n",
       "\n",
       "    .dataframe thead th {\n",
       "        text-align: right;\n",
       "    }\n",
       "</style>\n",
       "<table border=\"1\" class=\"dataframe\">\n",
       "  <thead>\n",
       "    <tr style=\"text-align: right;\">\n",
       "      <th></th>\n",
       "      <th>uid</th>\n",
       "      <th>active_mins</th>\n",
       "      <th>z_score</th>\n",
       "      <th>variant_number</th>\n",
       "      <th>dt</th>\n",
       "      <th>signup_date</th>\n",
       "    </tr>\n",
       "  </thead>\n",
       "  <tbody>\n",
       "    <tr>\n",
       "      <th>46628</th>\n",
       "      <td>49995</td>\n",
       "      <td>95.0</td>\n",
       "      <td>0.437649</td>\n",
       "      <td>1</td>\n",
       "      <td>2019-02-06</td>\n",
       "      <td>2018-10-11</td>\n",
       "    </tr>\n",
       "    <tr>\n",
       "      <th>46629</th>\n",
       "      <td>49996</td>\n",
       "      <td>156.0</td>\n",
       "      <td>0.247296</td>\n",
       "      <td>1</td>\n",
       "      <td>2019-02-06</td>\n",
       "      <td>2014-12-06</td>\n",
       "    </tr>\n",
       "    <tr>\n",
       "      <th>46630</th>\n",
       "      <td>49997</td>\n",
       "      <td>379.0</td>\n",
       "      <td>1.210492</td>\n",
       "      <td>1</td>\n",
       "      <td>2019-02-06</td>\n",
       "      <td>2018-11-15</td>\n",
       "    </tr>\n",
       "    <tr>\n",
       "      <th>46631</th>\n",
       "      <td>49998</td>\n",
       "      <td>597.0</td>\n",
       "      <td>0.654109</td>\n",
       "      <td>1</td>\n",
       "      <td>2019-02-06</td>\n",
       "      <td>2016-04-05</td>\n",
       "    </tr>\n",
       "    <tr>\n",
       "      <th>46632</th>\n",
       "      <td>49999</td>\n",
       "      <td>39.0</td>\n",
       "      <td>0.140111</td>\n",
       "      <td>1</td>\n",
       "      <td>2019-02-06</td>\n",
       "      <td>2015-12-29</td>\n",
       "    </tr>\n",
       "  </tbody>\n",
       "</table>\n",
       "</div>"
      ],
      "text/plain": [
       "         uid  active_mins   z_score  variant_number          dt signup_date\n",
       "46628  49995         95.0  0.437649               1  2019-02-06  2018-10-11\n",
       "46629  49996        156.0  0.247296               1  2019-02-06  2014-12-06\n",
       "46630  49997        379.0  1.210492               1  2019-02-06  2018-11-15\n",
       "46631  49998        597.0  0.654109               1  2019-02-06  2016-04-05\n",
       "46632  49999         39.0  0.140111               1  2019-02-06  2015-12-29"
      ]
     },
     "execution_count": 185,
     "metadata": {},
     "output_type": "execute_result"
    }
   ],
   "source": [
    "df_t12_nan[-5:]"
   ]
  },
  {
   "cell_type": "code",
   "execution_count": 186,
   "metadata": {},
   "outputs": [],
   "source": [
    "X1_0 = df_t12_nan[df_t12_nan['variant_number']==0]['active_mins']\n",
    "X1_1 = df_t12_nan[df_t12_nan['variant_number']==1]['active_mins']"
   ]
  },
  {
   "cell_type": "code",
   "execution_count": 187,
   "metadata": {},
   "outputs": [
    {
     "data": {
      "text/plain": [
       "[<matplotlib.lines.Line2D at 0x1d7a29f39b0>]"
      ]
     },
     "execution_count": 187,
     "metadata": {},
     "output_type": "execute_result"
    },
    {
     "data": {
      "image/png": "[encoded data removed]",
      "text/plain": [
       "<Figure size 432x288 with 1 Axes>"
      ]
     },
     "metadata": {
      "needs_background": "light"
     },
     "output_type": "display_data"
    }
   ],
   "source": [
    "plt.plot(X1_0)"
   ]
  },
  {
   "cell_type": "code",
   "execution_count": 188,
   "metadata": {},
   "outputs": [
    {
     "data": {
      "text/plain": [
       "[<matplotlib.lines.Line2D at 0x1d7a02296d8>]"
      ]
     },
     "execution_count": 188,
     "metadata": {},
     "output_type": "execute_result"
    },
    {
     "data": {
      "image/png": "[encoded data removed]",
      "text/plain": [
       "<Figure size 432x288 with 1 Axes>"
      ]
     },
     "metadata": {
      "needs_background": "light"
     },
     "output_type": "display_data"
    }
   ],
   "source": [
    "plt.plot(X1_1)"
   ]
  },
  {
   "cell_type": "code",
   "execution_count": 189,
   "metadata": {},
   "outputs": [
    {
     "name": "stdout",
     "output_type": "stream",
     "text": [
      "458.2211623246493 458.4024761077324\n"
     ]
    }
   ],
   "source": [
    "print(X1_0.mean(),X1_1.mean())"
   ]
  },
  {
   "cell_type": "code",
   "execution_count": 344,
   "metadata": {},
   "outputs": [
    {
     "data": {
      "text/plain": [
       "Ttest_indResult(statistic=0.04702697348305371, pvalue=0.9624924081180158)"
      ]
     },
     "execution_count": 344,
     "metadata": {},
     "output_type": "execute_result"
    }
   ],
   "source": [
    "stats.ttest_ind(X1_1,X1_0,equal_var = False,nan_policy='omit')"
   ]
  },
  {
   "cell_type": "code",
   "execution_count": 343,
   "metadata": {},
   "outputs": [
    {
     "data": {
      "text/plain": [
       "(-37.43943956796715, 39.280070760467304)"
      ]
     },
     "execution_count": 343,
     "metadata": {},
     "output_type": "execute_result"
    }
   ],
   "source": [
    "# confidence interval of t-test\n",
    "cm1 = sms.CompareMeans(sms.DescrStatsW(X1_1), sms.DescrStatsW(X1_0))\n",
    "cm1.tconfint_diff(alpha=0.05,alternative='two-sided',usevar='unequal')"
   ]
  },
  {
   "cell_type": "code",
   "execution_count": 192,
   "metadata": {},
   "outputs": [
    {
     "data": {
      "text/plain": [
       "(-0.009303964709989936, 0.9925767506273644, 13920.469441655147)"
      ]
     },
     "execution_count": 192,
     "metadata": {},
     "output_type": "execute_result"
    }
   ],
   "source": [
    "cm1.ttest_ind(usevar='unequal')"
   ]
  },
  {
   "cell_type": "markdown",
   "metadata": {},
   "source": [
    "# t-test using table 1, 2, & 3"
   ]
  },
  {
   "cell_type": "code",
   "execution_count": 193,
   "metadata": {},
   "outputs": [
    {
     "data": {
      "text/html": [
       "<div>\n",
       "<style scoped>\n",
       "    .dataframe tbody tr th:only-of-type {\n",
       "        vertical-align: middle;\n",
       "    }\n",
       "\n",
       "    .dataframe tbody tr th {\n",
       "        vertical-align: top;\n",
       "    }\n",
       "\n",
       "    .dataframe thead th {\n",
       "        text-align: right;\n",
       "    }\n",
       "</style>\n",
       "<table border=\"1\" class=\"dataframe\">\n",
       "  <thead>\n",
       "    <tr style=\"text-align: right;\">\n",
       "      <th></th>\n",
       "      <th>uid</th>\n",
       "      <th>dt</th>\n",
       "      <th>active_mins</th>\n",
       "    </tr>\n",
       "  </thead>\n",
       "  <tbody>\n",
       "    <tr>\n",
       "      <th>0</th>\n",
       "      <td>0</td>\n",
       "      <td>2018-09-24</td>\n",
       "      <td>3.0</td>\n",
       "    </tr>\n",
       "    <tr>\n",
       "      <th>1</th>\n",
       "      <td>0</td>\n",
       "      <td>2018-11-08</td>\n",
       "      <td>4.0</td>\n",
       "    </tr>\n",
       "    <tr>\n",
       "      <th>2</th>\n",
       "      <td>0</td>\n",
       "      <td>2018-11-24</td>\n",
       "      <td>3.0</td>\n",
       "    </tr>\n",
       "    <tr>\n",
       "      <th>3</th>\n",
       "      <td>0</td>\n",
       "      <td>2018-11-28</td>\n",
       "      <td>6.0</td>\n",
       "    </tr>\n",
       "    <tr>\n",
       "      <th>4</th>\n",
       "      <td>0</td>\n",
       "      <td>2018-12-02</td>\n",
       "      <td>6.0</td>\n",
       "    </tr>\n",
       "  </tbody>\n",
       "</table>\n",
       "</div>"
      ],
      "text/plain": [
       "   uid          dt  active_mins\n",
       "0    0  2018-09-24          3.0\n",
       "1    0  2018-11-08          4.0\n",
       "2    0  2018-11-24          3.0\n",
       "3    0  2018-11-28          6.0\n",
       "4    0  2018-12-02          6.0"
      ]
     },
     "execution_count": 193,
     "metadata": {},
     "output_type": "execute_result"
    }
   ],
   "source": [
    "df_t3.head()"
   ]
  },
  {
   "cell_type": "code",
   "execution_count": 195,
   "metadata": {},
   "outputs": [
    {
     "name": "stdout",
     "output_type": "stream",
     "text": [
      "1190093\n"
     ]
    }
   ],
   "source": [
    "print(len(df_t3))"
   ]
  },
  {
   "cell_type": "code",
   "execution_count": 196,
   "metadata": {},
   "outputs": [
    {
     "name": "stdout",
     "output_type": "stream",
     "text": [
      "1189927\n"
     ]
    }
   ],
   "source": [
    "# delete outliers in table 3\n",
    "df_t3['z_score'] = np.abs(stats.zscore(df_t3['active_mins']))\n",
    "# remove outliers\n",
    "df_t3 = df_t3[df_t3['z_score']<3]\n",
    "print(len(df_t3))"
   ]
  },
  {
   "cell_type": "code",
   "execution_count": 197,
   "metadata": {},
   "outputs": [
    {
     "data": {
      "text/plain": [
       "<matplotlib.axes._subplots.AxesSubplot at 0x1d7a0239908>"
      ]
     },
     "execution_count": 197,
     "metadata": {},
     "output_type": "execute_result"
    },
    {
     "data": {
      "image/png": "[encoded data removed]",
      "text/plain": [
       "<Figure size 432x288 with 1 Axes>"
      ]
     },
     "metadata": {
      "needs_background": "light"
     },
     "output_type": "display_data"
    }
   ],
   "source": [
    "df_t3['z_score'].plot()"
   ]
  },
  {
   "cell_type": "code",
   "execution_count": 198,
   "metadata": {},
   "outputs": [
    {
     "data": {
      "text/html": [
       "<div>\n",
       "<style scoped>\n",
       "    .dataframe tbody tr th:only-of-type {\n",
       "        vertical-align: middle;\n",
       "    }\n",
       "\n",
       "    .dataframe tbody tr th {\n",
       "        vertical-align: top;\n",
       "    }\n",
       "\n",
       "    .dataframe thead th {\n",
       "        text-align: right;\n",
       "    }\n",
       "</style>\n",
       "<table border=\"1\" class=\"dataframe\">\n",
       "  <thead>\n",
       "    <tr style=\"text-align: right;\">\n",
       "      <th></th>\n",
       "      <th>uid</th>\n",
       "      <th>active_mins</th>\n",
       "      <th>z_score</th>\n",
       "    </tr>\n",
       "  </thead>\n",
       "  <tbody>\n",
       "    <tr>\n",
       "      <th>0</th>\n",
       "      <td>0</td>\n",
       "      <td>70.0</td>\n",
       "      <td>0.513120</td>\n",
       "    </tr>\n",
       "    <tr>\n",
       "      <th>1</th>\n",
       "      <td>1</td>\n",
       "      <td>19158.0</td>\n",
       "      <td>13.101561</td>\n",
       "    </tr>\n",
       "    <tr>\n",
       "      <th>2</th>\n",
       "      <td>2</td>\n",
       "      <td>37.0</td>\n",
       "      <td>0.241239</td>\n",
       "    </tr>\n",
       "    <tr>\n",
       "      <th>3</th>\n",
       "      <td>3</td>\n",
       "      <td>108.0</td>\n",
       "      <td>0.437952</td>\n",
       "    </tr>\n",
       "    <tr>\n",
       "      <th>4</th>\n",
       "      <td>4</td>\n",
       "      <td>66.0</td>\n",
       "      <td>0.707293</td>\n",
       "    </tr>\n",
       "  </tbody>\n",
       "</table>\n",
       "</div>"
      ],
      "text/plain": [
       "   uid  active_mins    z_score\n",
       "0    0         70.0   0.513120\n",
       "1    1      19158.0  13.101561\n",
       "2    2         37.0   0.241239\n",
       "3    3        108.0   0.437952\n",
       "4    4         66.0   0.707293"
      ]
     },
     "execution_count": 198,
     "metadata": {},
     "output_type": "execute_result"
    }
   ],
   "source": [
    "# calculate sum\n",
    "df_t3_grouped = df_t3.groupby(['uid'],as_index=False)\n",
    "df_t3_sum = df_t3_grouped.sum()\n",
    "df_t3_sum.head()"
   ]
  },
  {
   "cell_type": "code",
   "execution_count": 199,
   "metadata": {},
   "outputs": [],
   "source": [
    "df_t3_sum = df_t3_sum.rename(columns = {\"active_mins\":\"active_mins_pre\",\"z_score\":\"z_score_pre\"})"
   ]
  },
  {
   "cell_type": "code",
   "execution_count": 200,
   "metadata": {},
   "outputs": [
    {
     "data": {
      "text/html": [
       "<div>\n",
       "<style scoped>\n",
       "    .dataframe tbody tr th:only-of-type {\n",
       "        vertical-align: middle;\n",
       "    }\n",
       "\n",
       "    .dataframe tbody tr th {\n",
       "        vertical-align: top;\n",
       "    }\n",
       "\n",
       "    .dataframe thead th {\n",
       "        text-align: right;\n",
       "    }\n",
       "</style>\n",
       "<table border=\"1\" class=\"dataframe\">\n",
       "  <thead>\n",
       "    <tr style=\"text-align: right;\">\n",
       "      <th></th>\n",
       "      <th>uid</th>\n",
       "      <th>active_mins</th>\n",
       "      <th>z_score</th>\n",
       "      <th>variant_number</th>\n",
       "      <th>dt</th>\n",
       "      <th>signup_date</th>\n",
       "      <th>active_mins_pre</th>\n",
       "      <th>z_score_pre</th>\n",
       "    </tr>\n",
       "  </thead>\n",
       "  <tbody>\n",
       "    <tr>\n",
       "      <th>0</th>\n",
       "      <td>0</td>\n",
       "      <td>43.0</td>\n",
       "      <td>0.336238</td>\n",
       "      <td>0</td>\n",
       "      <td>2019-02-06</td>\n",
       "      <td>2018-09-24</td>\n",
       "      <td>70.0</td>\n",
       "      <td>0.513120</td>\n",
       "    </tr>\n",
       "    <tr>\n",
       "      <th>1</th>\n",
       "      <td>1</td>\n",
       "      <td>15205.0</td>\n",
       "      <td>9.393575</td>\n",
       "      <td>0</td>\n",
       "      <td>2019-02-06</td>\n",
       "      <td>2016-11-07</td>\n",
       "      <td>19158.0</td>\n",
       "      <td>13.101561</td>\n",
       "    </tr>\n",
       "    <tr>\n",
       "      <th>2</th>\n",
       "      <td>2</td>\n",
       "      <td>17.0</td>\n",
       "      <td>0.185895</td>\n",
       "      <td>0</td>\n",
       "      <td>2019-02-06</td>\n",
       "      <td>2018-09-17</td>\n",
       "      <td>37.0</td>\n",
       "      <td>0.241239</td>\n",
       "    </tr>\n",
       "    <tr>\n",
       "      <th>3</th>\n",
       "      <td>3</td>\n",
       "      <td>77.0</td>\n",
       "      <td>0.622625</td>\n",
       "      <td>0</td>\n",
       "      <td>2019-02-06</td>\n",
       "      <td>2018-03-04</td>\n",
       "      <td>108.0</td>\n",
       "      <td>0.437952</td>\n",
       "    </tr>\n",
       "    <tr>\n",
       "      <th>4</th>\n",
       "      <td>4</td>\n",
       "      <td>39.0</td>\n",
       "      <td>0.538663</td>\n",
       "      <td>0</td>\n",
       "      <td>2019-02-06</td>\n",
       "      <td>2017-03-09</td>\n",
       "      <td>66.0</td>\n",
       "      <td>0.707293</td>\n",
       "    </tr>\n",
       "  </tbody>\n",
       "</table>\n",
       "</div>"
      ],
      "text/plain": [
       "   uid  active_mins   z_score  variant_number          dt signup_date  \\\n",
       "0    0         43.0  0.336238               0  2019-02-06  2018-09-24   \n",
       "1    1      15205.0  9.393575               0  2019-02-06  2016-11-07   \n",
       "2    2         17.0  0.185895               0  2019-02-06  2018-09-17   \n",
       "3    3         77.0  0.622625               0  2019-02-06  2018-03-04   \n",
       "4    4         39.0  0.538663               0  2019-02-06  2017-03-09   \n",
       "\n",
       "   active_mins_pre  z_score_pre  \n",
       "0             70.0     0.513120  \n",
       "1          19158.0    13.101561  \n",
       "2             37.0     0.241239  \n",
       "3            108.0     0.437952  \n",
       "4             66.0     0.707293  "
      ]
     },
     "execution_count": 200,
     "metadata": {},
     "output_type": "execute_result"
    }
   ],
   "source": [
    "# combine table 2 and table 3\n",
    "df_t123 = pd.merge(df_t12,df_t3_sum,how = 'left',on = 'uid')\n",
    "df_t123.head()"
   ]
  },
  {
   "cell_type": "code",
   "execution_count": 201,
   "metadata": {},
   "outputs": [
    {
     "name": "stdout",
     "output_type": "stream",
     "text": [
      "50000\n"
     ]
    }
   ],
   "source": [
    "print(len(df_t123))"
   ]
  },
  {
   "cell_type": "code",
   "execution_count": 202,
   "metadata": {},
   "outputs": [
    {
     "name": "stdout",
     "output_type": "stream",
     "text": [
      "46478\n"
     ]
    }
   ],
   "source": [
    "df_t123_nan = df_t123.dropna(subset=['active_mins','active_mins_pre'])\n",
    "print(len(df_t123_nan))"
   ]
  },
  {
   "cell_type": "code",
   "execution_count": 203,
   "metadata": {},
   "outputs": [
    {
     "data": {
      "text/html": [
       "<div>\n",
       "<style scoped>\n",
       "    .dataframe tbody tr th:only-of-type {\n",
       "        vertical-align: middle;\n",
       "    }\n",
       "\n",
       "    .dataframe tbody tr th {\n",
       "        vertical-align: top;\n",
       "    }\n",
       "\n",
       "    .dataframe thead th {\n",
       "        text-align: right;\n",
       "    }\n",
       "</style>\n",
       "<table border=\"1\" class=\"dataframe\">\n",
       "  <thead>\n",
       "    <tr style=\"text-align: right;\">\n",
       "      <th></th>\n",
       "      <th>uid</th>\n",
       "      <th>active_mins</th>\n",
       "      <th>z_score</th>\n",
       "      <th>variant_number</th>\n",
       "      <th>dt</th>\n",
       "      <th>signup_date</th>\n",
       "      <th>active_mins_pre</th>\n",
       "      <th>z_score_pre</th>\n",
       "    </tr>\n",
       "  </thead>\n",
       "  <tbody>\n",
       "    <tr>\n",
       "      <th>46628</th>\n",
       "      <td>49995</td>\n",
       "      <td>95.0</td>\n",
       "      <td>0.437649</td>\n",
       "      <td>1</td>\n",
       "      <td>2019-02-06</td>\n",
       "      <td>2018-10-11</td>\n",
       "      <td>34.0</td>\n",
       "      <td>0.325545</td>\n",
       "    </tr>\n",
       "    <tr>\n",
       "      <th>46629</th>\n",
       "      <td>49996</td>\n",
       "      <td>156.0</td>\n",
       "      <td>0.247296</td>\n",
       "      <td>1</td>\n",
       "      <td>2019-02-06</td>\n",
       "      <td>2014-12-06</td>\n",
       "      <td>243.0</td>\n",
       "      <td>0.793807</td>\n",
       "    </tr>\n",
       "    <tr>\n",
       "      <th>46630</th>\n",
       "      <td>49997</td>\n",
       "      <td>379.0</td>\n",
       "      <td>1.210492</td>\n",
       "      <td>1</td>\n",
       "      <td>2019-02-06</td>\n",
       "      <td>2018-11-15</td>\n",
       "      <td>83.0</td>\n",
       "      <td>0.556628</td>\n",
       "    </tr>\n",
       "    <tr>\n",
       "      <th>46631</th>\n",
       "      <td>49998</td>\n",
       "      <td>597.0</td>\n",
       "      <td>0.654109</td>\n",
       "      <td>1</td>\n",
       "      <td>2019-02-06</td>\n",
       "      <td>2016-04-05</td>\n",
       "      <td>124.0</td>\n",
       "      <td>0.549182</td>\n",
       "    </tr>\n",
       "    <tr>\n",
       "      <th>46632</th>\n",
       "      <td>49999</td>\n",
       "      <td>39.0</td>\n",
       "      <td>0.140111</td>\n",
       "      <td>1</td>\n",
       "      <td>2019-02-06</td>\n",
       "      <td>2015-12-29</td>\n",
       "      <td>77.0</td>\n",
       "      <td>0.071108</td>\n",
       "    </tr>\n",
       "  </tbody>\n",
       "</table>\n",
       "</div>"
      ],
      "text/plain": [
       "         uid  active_mins   z_score  variant_number          dt signup_date  \\\n",
       "46628  49995         95.0  0.437649               1  2019-02-06  2018-10-11   \n",
       "46629  49996        156.0  0.247296               1  2019-02-06  2014-12-06   \n",
       "46630  49997        379.0  1.210492               1  2019-02-06  2018-11-15   \n",
       "46631  49998        597.0  0.654109               1  2019-02-06  2016-04-05   \n",
       "46632  49999         39.0  0.140111               1  2019-02-06  2015-12-29   \n",
       "\n",
       "       active_mins_pre  z_score_pre  \n",
       "46628             34.0     0.325545  \n",
       "46629            243.0     0.793807  \n",
       "46630             83.0     0.556628  \n",
       "46631            124.0     0.549182  \n",
       "46632             77.0     0.071108  "
      ]
     },
     "execution_count": 203,
     "metadata": {},
     "output_type": "execute_result"
    }
   ],
   "source": [
    "df_t123_nan[-5:]"
   ]
  },
  {
   "cell_type": "code",
   "execution_count": 204,
   "metadata": {},
   "outputs": [],
   "source": [
    "X1_0 = df_t123_nan[df_t123_nan['variant_number']==0]['active_mins']\n",
    "X1_1 = df_t123_nan[df_t123_nan['variant_number']==1]['active_mins']"
   ]
  },
  {
   "cell_type": "code",
   "execution_count": 205,
   "metadata": {},
   "outputs": [],
   "source": [
    "X3_0 = df_t123_nan[df_t123_nan['variant_number']==0]['active_mins_pre']\n",
    "X3_1 = df_t123_nan[df_t123_nan['variant_number']==1]['active_mins_pre']"
   ]
  },
  {
   "cell_type": "code",
   "execution_count": 206,
   "metadata": {},
   "outputs": [
    {
     "name": "stdout",
     "output_type": "stream",
     "text": [
      "9165 9165\n"
     ]
    }
   ],
   "source": [
    "print(len(X1_1),len(X3_1))"
   ]
  },
  {
   "cell_type": "code",
   "execution_count": 207,
   "metadata": {},
   "outputs": [
    {
     "name": "stdout",
     "output_type": "stream",
     "text": [
      "459.54482351995284 506.8402701471337\n"
     ]
    }
   ],
   "source": [
    "print(X1_0.mean(),X3_0.mean())"
   ]
  },
  {
   "cell_type": "code",
   "execution_count": 208,
   "metadata": {},
   "outputs": [
    {
     "name": "stdout",
     "output_type": "stream",
     "text": [
      "460.4651391162029 295.81102018548825\n"
     ]
    }
   ],
   "source": [
    "print(X1_1.mean(),X3_1.mean())"
   ]
  },
  {
   "cell_type": "markdown",
   "metadata": {},
   "source": [
    "Compare pre- and post- treatment active minutes for controled group "
   ]
  },
  {
   "cell_type": "code",
   "execution_count": 345,
   "metadata": {},
   "outputs": [
    {
     "data": {
      "text/plain": [
       "(-72.6748790597489, -21.91601419461283)"
      ]
     },
     "execution_count": 345,
     "metadata": {},
     "output_type": "execute_result"
    }
   ],
   "source": [
    "# confidence interval of t-test \n",
    "cm31_0 = sms.CompareMeans(sms.DescrStatsW(X1_0), sms.DescrStatsW(X3_0))\n",
    "cm31_0.tconfint_diff(alpha=0.05,alternative='two-sided',usevar='unequal')"
   ]
  },
  {
   "cell_type": "code",
   "execution_count": 346,
   "metadata": {},
   "outputs": [
    {
     "data": {
      "text/plain": [
       "(-3.652520550489233, 0.0002598590729211633, 73501.22033700194)"
      ]
     },
     "execution_count": 346,
     "metadata": {},
     "output_type": "execute_result"
    }
   ],
   "source": [
    "cm31_0.ttest_ind(usevar='unequal')"
   ]
  },
  {
   "cell_type": "code",
   "execution_count": 347,
   "metadata": {},
   "outputs": [
    {
     "data": {
      "text/plain": [
       "Ttest_indResult(statistic=-3.652520550489233, pvalue=0.0002598590729211633)"
      ]
     },
     "execution_count": 347,
     "metadata": {},
     "output_type": "execute_result"
    }
   ],
   "source": [
    "stats.ttest_ind(X1_0,X3_0,equal_var = False,nan_policy='omit')"
   ]
  },
  {
   "cell_type": "markdown",
   "metadata": {},
   "source": [
    "Compare pre- and post- treatment active minutes for treatment group "
   ]
  },
  {
   "cell_type": "code",
   "execution_count": 348,
   "metadata": {},
   "outputs": [
    {
     "data": {
      "text/plain": [
       "(123.25398503564992, 206.05425282577943)"
      ]
     },
     "execution_count": 348,
     "metadata": {},
     "output_type": "execute_result"
    }
   ],
   "source": [
    "cm31_1 = sms.CompareMeans(sms.DescrStatsW(X1_1), sms.DescrStatsW(X3_1))\n",
    "cm31_1.tconfint_diff(alpha=0.05,alternative='two-sided',usevar='unequal')"
   ]
  },
  {
   "cell_type": "code",
   "execution_count": 349,
   "metadata": {},
   "outputs": [
    {
     "data": {
      "text/plain": [
       "(7.795642865621355, 6.802272221823442e-15, 15934.188601640477)"
      ]
     },
     "execution_count": 349,
     "metadata": {},
     "output_type": "execute_result"
    }
   ],
   "source": [
    "cm31_1.ttest_ind(usevar='unequal')"
   ]
  },
  {
   "cell_type": "code",
   "execution_count": 350,
   "metadata": {},
   "outputs": [
    {
     "data": {
      "text/plain": [
       "Ttest_indResult(statistic=7.795642865621355, pvalue=6.802272221823442e-15)"
      ]
     },
     "execution_count": 350,
     "metadata": {},
     "output_type": "execute_result"
    }
   ],
   "source": [
    "stats.ttest_ind(X1_1,X3_1,equal_var = False,nan_policy='omit')"
   ]
  },
  {
   "cell_type": "markdown",
   "metadata": {},
   "source": [
    "# Deep Dive"
   ]
  },
  {
   "cell_type": "code",
   "execution_count": 216,
   "metadata": {},
   "outputs": [
    {
     "data": {
      "text/html": [
       "<div>\n",
       "<style scoped>\n",
       "    .dataframe tbody tr th:only-of-type {\n",
       "        vertical-align: middle;\n",
       "    }\n",
       "\n",
       "    .dataframe tbody tr th {\n",
       "        vertical-align: top;\n",
       "    }\n",
       "\n",
       "    .dataframe thead th {\n",
       "        text-align: right;\n",
       "    }\n",
       "</style>\n",
       "<table border=\"1\" class=\"dataframe\">\n",
       "  <thead>\n",
       "    <tr style=\"text-align: right;\">\n",
       "      <th></th>\n",
       "      <th>uid</th>\n",
       "      <th>active_mins</th>\n",
       "      <th>z_score</th>\n",
       "      <th>variant_number</th>\n",
       "      <th>dt</th>\n",
       "      <th>signup_date</th>\n",
       "      <th>active_mins_pre</th>\n",
       "      <th>z_score_pre</th>\n",
       "      <th>gender</th>\n",
       "      <th>user_type</th>\n",
       "    </tr>\n",
       "  </thead>\n",
       "  <tbody>\n",
       "    <tr>\n",
       "      <th>0</th>\n",
       "      <td>0</td>\n",
       "      <td>43.0</td>\n",
       "      <td>0.336238</td>\n",
       "      <td>0</td>\n",
       "      <td>2019-02-06</td>\n",
       "      <td>2018-09-24</td>\n",
       "      <td>70.0</td>\n",
       "      <td>0.513120</td>\n",
       "      <td>male</td>\n",
       "      <td>non_reader</td>\n",
       "    </tr>\n",
       "    <tr>\n",
       "      <th>1</th>\n",
       "      <td>1</td>\n",
       "      <td>15205.0</td>\n",
       "      <td>9.393575</td>\n",
       "      <td>0</td>\n",
       "      <td>2019-02-06</td>\n",
       "      <td>2016-11-07</td>\n",
       "      <td>19158.0</td>\n",
       "      <td>13.101561</td>\n",
       "      <td>male</td>\n",
       "      <td>reader</td>\n",
       "    </tr>\n",
       "    <tr>\n",
       "      <th>2</th>\n",
       "      <td>2</td>\n",
       "      <td>17.0</td>\n",
       "      <td>0.185895</td>\n",
       "      <td>0</td>\n",
       "      <td>2019-02-06</td>\n",
       "      <td>2018-09-17</td>\n",
       "      <td>37.0</td>\n",
       "      <td>0.241239</td>\n",
       "      <td>male</td>\n",
       "      <td>non_reader</td>\n",
       "    </tr>\n",
       "    <tr>\n",
       "      <th>3</th>\n",
       "      <td>3</td>\n",
       "      <td>77.0</td>\n",
       "      <td>0.622625</td>\n",
       "      <td>0</td>\n",
       "      <td>2019-02-06</td>\n",
       "      <td>2018-03-04</td>\n",
       "      <td>108.0</td>\n",
       "      <td>0.437952</td>\n",
       "      <td>male</td>\n",
       "      <td>non_reader</td>\n",
       "    </tr>\n",
       "    <tr>\n",
       "      <th>4</th>\n",
       "      <td>4</td>\n",
       "      <td>39.0</td>\n",
       "      <td>0.538663</td>\n",
       "      <td>0</td>\n",
       "      <td>2019-02-06</td>\n",
       "      <td>2017-03-09</td>\n",
       "      <td>66.0</td>\n",
       "      <td>0.707293</td>\n",
       "      <td>male</td>\n",
       "      <td>non_reader</td>\n",
       "    </tr>\n",
       "  </tbody>\n",
       "</table>\n",
       "</div>"
      ],
      "text/plain": [
       "   uid  active_mins   z_score  variant_number          dt signup_date  \\\n",
       "0    0         43.0  0.336238               0  2019-02-06  2018-09-24   \n",
       "1    1      15205.0  9.393575               0  2019-02-06  2016-11-07   \n",
       "2    2         17.0  0.185895               0  2019-02-06  2018-09-17   \n",
       "3    3         77.0  0.622625               0  2019-02-06  2018-03-04   \n",
       "4    4         39.0  0.538663               0  2019-02-06  2017-03-09   \n",
       "\n",
       "   active_mins_pre  z_score_pre gender   user_type  \n",
       "0             70.0     0.513120   male  non_reader  \n",
       "1          19158.0    13.101561   male      reader  \n",
       "2             37.0     0.241239   male  non_reader  \n",
       "3            108.0     0.437952   male  non_reader  \n",
       "4             66.0     0.707293   male  non_reader  "
      ]
     },
     "execution_count": 216,
     "metadata": {},
     "output_type": "execute_result"
    }
   ],
   "source": [
    "# combine table 1,2,3,and 4\n",
    "df_t1234 = pd.merge(df_t123,df_t4,how = 'left',on = 'uid')\n",
    "df_t1234.head()"
   ]
  },
  {
   "cell_type": "code",
   "execution_count": 368,
   "metadata": {},
   "outputs": [
    {
     "data": {
      "text/plain": [
       "uid          1044\n",
       "gender       1044\n",
       "user_type    1044\n",
       "dtype: int64"
      ]
     },
     "execution_count": 368,
     "metadata": {},
     "output_type": "execute_result"
    }
   ],
   "source": [
    "df_t4[df_t4['user_type']=='contributor'].count()"
   ]
  },
  {
   "cell_type": "code",
   "execution_count": 217,
   "metadata": {},
   "outputs": [
    {
     "data": {
      "text/plain": [
       "<matplotlib.axes._subplots.AxesSubplot at 0x1d7a00a8e10>"
      ]
     },
     "execution_count": 217,
     "metadata": {},
     "output_type": "execute_result"
    },
    {
     "data": {
      "image/png": "[encoded data removed]",
      "text/plain": [
       "<Figure size 432x288 with 1 Axes>"
      ]
     },
     "metadata": {
      "needs_background": "light"
     },
     "output_type": "display_data"
    }
   ],
   "source": [
    "sns.countplot(x='gender',data=df_t1234)"
   ]
  },
  {
   "cell_type": "code",
   "execution_count": 218,
   "metadata": {},
   "outputs": [
    {
     "data": {
      "text/plain": [
       "<matplotlib.axes._subplots.AxesSubplot at 0x1d7a00cbda0>"
      ]
     },
     "execution_count": 218,
     "metadata": {},
     "output_type": "execute_result"
    },
    {
     "data": {
      "image/png": "[encoded data removed]",
      "text/plain": [
       "<Figure size 432x288 with 1 Axes>"
      ]
     },
     "metadata": {
      "needs_background": "light"
     },
     "output_type": "display_data"
    }
   ],
   "source": [
    "sns.countplot(x='user_type',data=df_t1234)"
   ]
  },
  {
   "cell_type": "code",
   "execution_count": 219,
   "metadata": {},
   "outputs": [
    {
     "data": {
      "text/plain": [
       "<matplotlib.axes._subplots.AxesSubplot at 0x1d79a40bc50>"
      ]
     },
     "execution_count": 219,
     "metadata": {},
     "output_type": "execute_result"
    },
    {
     "data": {
      "image/png": "[encoded data removed]",
      "text/plain": [
       "<Figure size 432x288 with 1 Axes>"
      ]
     },
     "metadata": {
      "needs_background": "light"
     },
     "output_type": "display_data"
    }
   ],
   "source": [
    "sns.countplot(x='gender',hue = 'user_type',data=df_t1234)"
   ]
  },
  {
   "cell_type": "code",
   "execution_count": 220,
   "metadata": {},
   "outputs": [],
   "source": [
    "# treated\n",
    "df_t1234_t = df_t1234[df_t1234['variant_number']==1]"
   ]
  },
  {
   "cell_type": "code",
   "execution_count": 221,
   "metadata": {},
   "outputs": [
    {
     "data": {
      "text/html": [
       "<div>\n",
       "<style scoped>\n",
       "    .dataframe tbody tr th:only-of-type {\n",
       "        vertical-align: middle;\n",
       "    }\n",
       "\n",
       "    .dataframe tbody tr th {\n",
       "        vertical-align: top;\n",
       "    }\n",
       "\n",
       "    .dataframe thead th {\n",
       "        text-align: right;\n",
       "    }\n",
       "</style>\n",
       "<table border=\"1\" class=\"dataframe\">\n",
       "  <thead>\n",
       "    <tr style=\"text-align: right;\">\n",
       "      <th></th>\n",
       "      <th>uid</th>\n",
       "      <th>active_mins</th>\n",
       "      <th>z_score</th>\n",
       "      <th>variant_number</th>\n",
       "      <th>dt</th>\n",
       "      <th>signup_date</th>\n",
       "      <th>active_mins_pre</th>\n",
       "      <th>z_score_pre</th>\n",
       "      <th>gender</th>\n",
       "      <th>user_type</th>\n",
       "    </tr>\n",
       "  </thead>\n",
       "  <tbody>\n",
       "    <tr>\n",
       "      <th>37425</th>\n",
       "      <td>40000</td>\n",
       "      <td>25.0</td>\n",
       "      <td>0.065726</td>\n",
       "      <td>1</td>\n",
       "      <td>2019-02-06</td>\n",
       "      <td>2019-02-04</td>\n",
       "      <td>NaN</td>\n",
       "      <td>NaN</td>\n",
       "      <td>male</td>\n",
       "      <td>new_user</td>\n",
       "    </tr>\n",
       "    <tr>\n",
       "      <th>37426</th>\n",
       "      <td>40001</td>\n",
       "      <td>299.0</td>\n",
       "      <td>0.675632</td>\n",
       "      <td>1</td>\n",
       "      <td>2019-02-06</td>\n",
       "      <td>2017-04-29</td>\n",
       "      <td>125.0</td>\n",
       "      <td>0.548336</td>\n",
       "      <td>male</td>\n",
       "      <td>non_reader</td>\n",
       "    </tr>\n",
       "    <tr>\n",
       "      <th>37427</th>\n",
       "      <td>40002</td>\n",
       "      <td>183.0</td>\n",
       "      <td>0.596128</td>\n",
       "      <td>1</td>\n",
       "      <td>2019-02-06</td>\n",
       "      <td>2015-08-22</td>\n",
       "      <td>90.0</td>\n",
       "      <td>0.550703</td>\n",
       "      <td>male</td>\n",
       "      <td>non_reader</td>\n",
       "    </tr>\n",
       "    <tr>\n",
       "      <th>37428</th>\n",
       "      <td>40004</td>\n",
       "      <td>56.0</td>\n",
       "      <td>0.212134</td>\n",
       "      <td>1</td>\n",
       "      <td>2019-02-06</td>\n",
       "      <td>2015-04-12</td>\n",
       "      <td>10.0</td>\n",
       "      <td>0.182325</td>\n",
       "      <td>female</td>\n",
       "      <td>non_reader</td>\n",
       "    </tr>\n",
       "    <tr>\n",
       "      <th>37429</th>\n",
       "      <td>40005</td>\n",
       "      <td>289.0</td>\n",
       "      <td>0.797375</td>\n",
       "      <td>1</td>\n",
       "      <td>2019-02-06</td>\n",
       "      <td>2017-03-05</td>\n",
       "      <td>638.0</td>\n",
       "      <td>1.269502</td>\n",
       "      <td>female</td>\n",
       "      <td>non_reader</td>\n",
       "    </tr>\n",
       "  </tbody>\n",
       "</table>\n",
       "</div>"
      ],
      "text/plain": [
       "         uid  active_mins   z_score  variant_number          dt signup_date  \\\n",
       "37425  40000         25.0  0.065726               1  2019-02-06  2019-02-04   \n",
       "37426  40001        299.0  0.675632               1  2019-02-06  2017-04-29   \n",
       "37427  40002        183.0  0.596128               1  2019-02-06  2015-08-22   \n",
       "37428  40004         56.0  0.212134               1  2019-02-06  2015-04-12   \n",
       "37429  40005        289.0  0.797375               1  2019-02-06  2017-03-05   \n",
       "\n",
       "       active_mins_pre  z_score_pre  gender   user_type  \n",
       "37425              NaN          NaN    male    new_user  \n",
       "37426            125.0     0.548336    male  non_reader  \n",
       "37427             90.0     0.550703    male  non_reader  \n",
       "37428             10.0     0.182325  female  non_reader  \n",
       "37429            638.0     1.269502  female  non_reader  "
      ]
     },
     "execution_count": 221,
     "metadata": {},
     "output_type": "execute_result"
    }
   ],
   "source": [
    "df_t1234_t.head()"
   ]
  },
  {
   "cell_type": "code",
   "execution_count": 222,
   "metadata": {},
   "outputs": [
    {
     "data": {
      "text/plain": [
       "<matplotlib.axes._subplots.AxesSubplot at 0x1d79a4a8978>"
      ]
     },
     "execution_count": 222,
     "metadata": {},
     "output_type": "execute_result"
    },
    {
     "data": {
      "image/png": "[encoded data removed]",
      "text/plain": [
       "<Figure size 432x288 with 1 Axes>"
      ]
     },
     "metadata": {
      "needs_background": "light"
     },
     "output_type": "display_data"
    }
   ],
   "source": [
    "sns.countplot(x='gender',data=df_t1234_t)"
   ]
  },
  {
   "cell_type": "code",
   "execution_count": 223,
   "metadata": {},
   "outputs": [
    {
     "data": {
      "text/plain": [
       "<matplotlib.axes._subplots.AxesSubplot at 0x1d79a4cefd0>"
      ]
     },
     "execution_count": 223,
     "metadata": {},
     "output_type": "execute_result"
    },
    {
     "data": {
      "image/png": "[encoded data removed]",
      "text/plain": [
       "<Figure size 432x288 with 1 Axes>"
      ]
     },
     "metadata": {
      "needs_background": "light"
     },
     "output_type": "display_data"
    }
   ],
   "source": [
    "sns.countplot(x='user_type',data=df_t1234_t)"
   ]
  },
  {
   "cell_type": "code",
   "execution_count": 224,
   "metadata": {},
   "outputs": [
    {
     "data": {
      "text/plain": [
       "<matplotlib.axes._subplots.AxesSubplot at 0x1d79a0f8f98>"
      ]
     },
     "execution_count": 224,
     "metadata": {},
     "output_type": "execute_result"
    },
    {
     "data": {
      "image/png": "[encoded data removed]",
      "text/plain": [
       "<Figure size 432x288 with 1 Axes>"
      ]
     },
     "metadata": {
      "needs_background": "light"
     },
     "output_type": "display_data"
    }
   ],
   "source": [
    "sns.countplot(x='gender',hue = 'user_type',data=df_t1234_t)"
   ]
  },
  {
   "cell_type": "code",
   "execution_count": 225,
   "metadata": {},
   "outputs": [
    {
     "data": {
      "text/html": [
       "<div>\n",
       "<style scoped>\n",
       "    .dataframe tbody tr th:only-of-type {\n",
       "        vertical-align: middle;\n",
       "    }\n",
       "\n",
       "    .dataframe tbody tr th {\n",
       "        vertical-align: top;\n",
       "    }\n",
       "\n",
       "    .dataframe thead th {\n",
       "        text-align: right;\n",
       "    }\n",
       "</style>\n",
       "<table border=\"1\" class=\"dataframe\">\n",
       "  <thead>\n",
       "    <tr style=\"text-align: right;\">\n",
       "      <th></th>\n",
       "      <th>uid</th>\n",
       "      <th>active_mins</th>\n",
       "      <th>z_score</th>\n",
       "      <th>variant_number</th>\n",
       "      <th>dt</th>\n",
       "      <th>signup_date</th>\n",
       "      <th>active_mins_pre</th>\n",
       "      <th>z_score_pre</th>\n",
       "      <th>gender</th>\n",
       "      <th>user_type</th>\n",
       "    </tr>\n",
       "  </thead>\n",
       "  <tbody>\n",
       "    <tr>\n",
       "      <th>37425</th>\n",
       "      <td>40000</td>\n",
       "      <td>25.0</td>\n",
       "      <td>0.065726</td>\n",
       "      <td>1</td>\n",
       "      <td>2019-02-06</td>\n",
       "      <td>2019-02-04</td>\n",
       "      <td>NaN</td>\n",
       "      <td>NaN</td>\n",
       "      <td>male</td>\n",
       "      <td>new_user</td>\n",
       "    </tr>\n",
       "    <tr>\n",
       "      <th>37426</th>\n",
       "      <td>40001</td>\n",
       "      <td>299.0</td>\n",
       "      <td>0.675632</td>\n",
       "      <td>1</td>\n",
       "      <td>2019-02-06</td>\n",
       "      <td>2017-04-29</td>\n",
       "      <td>125.0</td>\n",
       "      <td>0.548336</td>\n",
       "      <td>male</td>\n",
       "      <td>non_reader</td>\n",
       "    </tr>\n",
       "    <tr>\n",
       "      <th>37427</th>\n",
       "      <td>40002</td>\n",
       "      <td>183.0</td>\n",
       "      <td>0.596128</td>\n",
       "      <td>1</td>\n",
       "      <td>2019-02-06</td>\n",
       "      <td>2015-08-22</td>\n",
       "      <td>90.0</td>\n",
       "      <td>0.550703</td>\n",
       "      <td>male</td>\n",
       "      <td>non_reader</td>\n",
       "    </tr>\n",
       "    <tr>\n",
       "      <th>37428</th>\n",
       "      <td>40004</td>\n",
       "      <td>56.0</td>\n",
       "      <td>0.212134</td>\n",
       "      <td>1</td>\n",
       "      <td>2019-02-06</td>\n",
       "      <td>2015-04-12</td>\n",
       "      <td>10.0</td>\n",
       "      <td>0.182325</td>\n",
       "      <td>female</td>\n",
       "      <td>non_reader</td>\n",
       "    </tr>\n",
       "    <tr>\n",
       "      <th>37429</th>\n",
       "      <td>40005</td>\n",
       "      <td>289.0</td>\n",
       "      <td>0.797375</td>\n",
       "      <td>1</td>\n",
       "      <td>2019-02-06</td>\n",
       "      <td>2017-03-05</td>\n",
       "      <td>638.0</td>\n",
       "      <td>1.269502</td>\n",
       "      <td>female</td>\n",
       "      <td>non_reader</td>\n",
       "    </tr>\n",
       "  </tbody>\n",
       "</table>\n",
       "</div>"
      ],
      "text/plain": [
       "         uid  active_mins   z_score  variant_number          dt signup_date  \\\n",
       "37425  40000         25.0  0.065726               1  2019-02-06  2019-02-04   \n",
       "37426  40001        299.0  0.675632               1  2019-02-06  2017-04-29   \n",
       "37427  40002        183.0  0.596128               1  2019-02-06  2015-08-22   \n",
       "37428  40004         56.0  0.212134               1  2019-02-06  2015-04-12   \n",
       "37429  40005        289.0  0.797375               1  2019-02-06  2017-03-05   \n",
       "\n",
       "       active_mins_pre  z_score_pre  gender   user_type  \n",
       "37425              NaN          NaN    male    new_user  \n",
       "37426            125.0     0.548336    male  non_reader  \n",
       "37427             90.0     0.550703    male  non_reader  \n",
       "37428             10.0     0.182325  female  non_reader  \n",
       "37429            638.0     1.269502  female  non_reader  "
      ]
     },
     "execution_count": 225,
     "metadata": {},
     "output_type": "execute_result"
    }
   ],
   "source": [
    "df_t1234_t.head()"
   ]
  },
  {
   "cell_type": "code",
   "execution_count": 369,
   "metadata": {},
   "outputs": [
    {
     "data": {
      "text/plain": [
       "uid                129\n",
       "active_mins        127\n",
       "z_score            127\n",
       "variant_number     129\n",
       "dt                 129\n",
       "signup_date        129\n",
       "active_mins_pre    129\n",
       "z_score_pre        129\n",
       "gender             129\n",
       "user_type          129\n",
       "dtype: int64"
      ]
     },
     "execution_count": 369,
     "metadata": {},
     "output_type": "execute_result"
    }
   ],
   "source": [
    "df_t1234_t[df_t1234_t['user_type']=='contributor'].count()"
   ]
  },
  {
   "cell_type": "markdown",
   "metadata": {},
   "source": [
    "t-tests"
   ]
  },
  {
   "cell_type": "code",
   "execution_count": 228,
   "metadata": {},
   "outputs": [
    {
     "data": {
      "text/html": [
       "<div>\n",
       "<style scoped>\n",
       "    .dataframe tbody tr th:only-of-type {\n",
       "        vertical-align: middle;\n",
       "    }\n",
       "\n",
       "    .dataframe tbody tr th {\n",
       "        vertical-align: top;\n",
       "    }\n",
       "\n",
       "    .dataframe thead th {\n",
       "        text-align: right;\n",
       "    }\n",
       "</style>\n",
       "<table border=\"1\" class=\"dataframe\">\n",
       "  <thead>\n",
       "    <tr style=\"text-align: right;\">\n",
       "      <th></th>\n",
       "      <th>uid</th>\n",
       "      <th>active_mins</th>\n",
       "      <th>variant_number</th>\n",
       "      <th>active_mins_pre</th>\n",
       "      <th>gender</th>\n",
       "      <th>user_type</th>\n",
       "    </tr>\n",
       "  </thead>\n",
       "  <tbody>\n",
       "    <tr>\n",
       "      <th>0</th>\n",
       "      <td>0</td>\n",
       "      <td>43.0</td>\n",
       "      <td>0</td>\n",
       "      <td>70.0</td>\n",
       "      <td>male</td>\n",
       "      <td>non_reader</td>\n",
       "    </tr>\n",
       "    <tr>\n",
       "      <th>1</th>\n",
       "      <td>1</td>\n",
       "      <td>15205.0</td>\n",
       "      <td>0</td>\n",
       "      <td>19158.0</td>\n",
       "      <td>male</td>\n",
       "      <td>reader</td>\n",
       "    </tr>\n",
       "    <tr>\n",
       "      <th>2</th>\n",
       "      <td>2</td>\n",
       "      <td>17.0</td>\n",
       "      <td>0</td>\n",
       "      <td>37.0</td>\n",
       "      <td>male</td>\n",
       "      <td>non_reader</td>\n",
       "    </tr>\n",
       "    <tr>\n",
       "      <th>3</th>\n",
       "      <td>3</td>\n",
       "      <td>77.0</td>\n",
       "      <td>0</td>\n",
       "      <td>108.0</td>\n",
       "      <td>male</td>\n",
       "      <td>non_reader</td>\n",
       "    </tr>\n",
       "    <tr>\n",
       "      <th>4</th>\n",
       "      <td>4</td>\n",
       "      <td>39.0</td>\n",
       "      <td>0</td>\n",
       "      <td>66.0</td>\n",
       "      <td>male</td>\n",
       "      <td>non_reader</td>\n",
       "    </tr>\n",
       "  </tbody>\n",
       "</table>\n",
       "</div>"
      ],
      "text/plain": [
       "   uid  active_mins  variant_number  active_mins_pre gender   user_type\n",
       "0    0         43.0               0             70.0   male  non_reader\n",
       "1    1      15205.0               0          19158.0   male      reader\n",
       "2    2         17.0               0             37.0   male  non_reader\n",
       "3    3         77.0               0            108.0   male  non_reader\n",
       "4    4         39.0               0             66.0   male  non_reader"
      ]
     },
     "execution_count": 228,
     "metadata": {},
     "output_type": "execute_result"
    }
   ],
   "source": [
    "df_di = df_t1234.drop(columns = ['dt','signup_date','z_score','z_score_pre'])\n",
    "df_di.head()"
   ]
  },
  {
   "cell_type": "code",
   "execution_count": 229,
   "metadata": {},
   "outputs": [
    {
     "data": {
      "text/html": [
       "<div>\n",
       "<style scoped>\n",
       "    .dataframe tbody tr th:only-of-type {\n",
       "        vertical-align: middle;\n",
       "    }\n",
       "\n",
       "    .dataframe tbody tr th {\n",
       "        vertical-align: top;\n",
       "    }\n",
       "\n",
       "    .dataframe thead th {\n",
       "        text-align: right;\n",
       "    }\n",
       "</style>\n",
       "<table border=\"1\" class=\"dataframe\">\n",
       "  <thead>\n",
       "    <tr style=\"text-align: right;\">\n",
       "      <th></th>\n",
       "      <th>uid</th>\n",
       "      <th>active_mins</th>\n",
       "      <th>variant_number</th>\n",
       "      <th>active_mins_pre</th>\n",
       "      <th>gender_female</th>\n",
       "      <th>gender_male</th>\n",
       "      <th>gender_unknown</th>\n",
       "      <th>user_type_contributor</th>\n",
       "      <th>user_type_new_user</th>\n",
       "      <th>user_type_non_reader</th>\n",
       "      <th>user_type_reader</th>\n",
       "    </tr>\n",
       "  </thead>\n",
       "  <tbody>\n",
       "    <tr>\n",
       "      <th>0</th>\n",
       "      <td>0</td>\n",
       "      <td>43.0</td>\n",
       "      <td>0</td>\n",
       "      <td>70.0</td>\n",
       "      <td>0</td>\n",
       "      <td>1</td>\n",
       "      <td>0</td>\n",
       "      <td>0</td>\n",
       "      <td>0</td>\n",
       "      <td>1</td>\n",
       "      <td>0</td>\n",
       "    </tr>\n",
       "    <tr>\n",
       "      <th>1</th>\n",
       "      <td>1</td>\n",
       "      <td>15205.0</td>\n",
       "      <td>0</td>\n",
       "      <td>19158.0</td>\n",
       "      <td>0</td>\n",
       "      <td>1</td>\n",
       "      <td>0</td>\n",
       "      <td>0</td>\n",
       "      <td>0</td>\n",
       "      <td>0</td>\n",
       "      <td>1</td>\n",
       "    </tr>\n",
       "    <tr>\n",
       "      <th>2</th>\n",
       "      <td>2</td>\n",
       "      <td>17.0</td>\n",
       "      <td>0</td>\n",
       "      <td>37.0</td>\n",
       "      <td>0</td>\n",
       "      <td>1</td>\n",
       "      <td>0</td>\n",
       "      <td>0</td>\n",
       "      <td>0</td>\n",
       "      <td>1</td>\n",
       "      <td>0</td>\n",
       "    </tr>\n",
       "    <tr>\n",
       "      <th>3</th>\n",
       "      <td>3</td>\n",
       "      <td>77.0</td>\n",
       "      <td>0</td>\n",
       "      <td>108.0</td>\n",
       "      <td>0</td>\n",
       "      <td>1</td>\n",
       "      <td>0</td>\n",
       "      <td>0</td>\n",
       "      <td>0</td>\n",
       "      <td>1</td>\n",
       "      <td>0</td>\n",
       "    </tr>\n",
       "    <tr>\n",
       "      <th>4</th>\n",
       "      <td>4</td>\n",
       "      <td>39.0</td>\n",
       "      <td>0</td>\n",
       "      <td>66.0</td>\n",
       "      <td>0</td>\n",
       "      <td>1</td>\n",
       "      <td>0</td>\n",
       "      <td>0</td>\n",
       "      <td>0</td>\n",
       "      <td>1</td>\n",
       "      <td>0</td>\n",
       "    </tr>\n",
       "  </tbody>\n",
       "</table>\n",
       "</div>"
      ],
      "text/plain": [
       "   uid  active_mins  variant_number  active_mins_pre  gender_female  \\\n",
       "0    0         43.0               0             70.0              0   \n",
       "1    1      15205.0               0          19158.0              0   \n",
       "2    2         17.0               0             37.0              0   \n",
       "3    3         77.0               0            108.0              0   \n",
       "4    4         39.0               0             66.0              0   \n",
       "\n",
       "   gender_male  gender_unknown  user_type_contributor  user_type_new_user  \\\n",
       "0            1               0                      0                   0   \n",
       "1            1               0                      0                   0   \n",
       "2            1               0                      0                   0   \n",
       "3            1               0                      0                   0   \n",
       "4            1               0                      0                   0   \n",
       "\n",
       "   user_type_non_reader  user_type_reader  \n",
       "0                     1                 0  \n",
       "1                     0                 1  \n",
       "2                     1                 0  \n",
       "3                     1                 0  \n",
       "4                     1                 0  "
      ]
     },
     "execution_count": 229,
     "metadata": {},
     "output_type": "execute_result"
    }
   ],
   "source": [
    "df_di = pd.get_dummies(df_di)\n",
    "df_di.head()"
   ]
  },
  {
   "cell_type": "code",
   "execution_count": 365,
   "metadata": {},
   "outputs": [
    {
     "ename": "AttributeError",
     "evalue": "'Int64Index' object has no attribute 'levels'",
     "output_type": "error",
     "traceback": [
      "\u001b[1;31m---------------------------------------------------------------------------\u001b[0m",
      "\u001b[1;31mAttributeError\u001b[0m                            Traceback (most recent call last)",
      "\u001b[1;32m<ipython-input-365-80628e905060>\u001b[0m in \u001b[0;36m<module>\u001b[1;34m\u001b[0m\n\u001b[1;32m----> 1\u001b[1;33m \u001b[0mdf_di\u001b[0m\u001b[1;33m[\u001b[0m\u001b[1;34m'user_type_contributor'\u001b[0m\u001b[1;33m]\u001b[0m\u001b[1;33m.\u001b[0m\u001b[0mcount\u001b[0m\u001b[1;33m(\u001b[0m\u001b[1;36m1\u001b[0m\u001b[1;33m)\u001b[0m\u001b[1;33m\u001b[0m\u001b[1;33m\u001b[0m\u001b[0m\n\u001b[0m",
      "\u001b[1;32m~\\Anaconda3\\lib\\site-packages\\pandas\\core\\series.py\u001b[0m in \u001b[0;36mcount\u001b[1;34m(self, level)\u001b[0m\n\u001b[0;32m   1577\u001b[0m             \u001b[0mlevel\u001b[0m \u001b[1;33m=\u001b[0m \u001b[0mself\u001b[0m\u001b[1;33m.\u001b[0m\u001b[0mindex\u001b[0m\u001b[1;33m.\u001b[0m\u001b[0m_get_level_number\u001b[0m\u001b[1;33m(\u001b[0m\u001b[0mlevel\u001b[0m\u001b[1;33m)\u001b[0m\u001b[1;33m\u001b[0m\u001b[1;33m\u001b[0m\u001b[0m\n\u001b[0;32m   1578\u001b[0m \u001b[1;33m\u001b[0m\u001b[0m\n\u001b[1;32m-> 1579\u001b[1;33m         \u001b[0mlev\u001b[0m \u001b[1;33m=\u001b[0m \u001b[0mself\u001b[0m\u001b[1;33m.\u001b[0m\u001b[0mindex\u001b[0m\u001b[1;33m.\u001b[0m\u001b[0mlevels\u001b[0m\u001b[1;33m[\u001b[0m\u001b[0mlevel\u001b[0m\u001b[1;33m]\u001b[0m\u001b[1;33m\u001b[0m\u001b[1;33m\u001b[0m\u001b[0m\n\u001b[0m\u001b[0;32m   1580\u001b[0m         \u001b[0mlevel_codes\u001b[0m \u001b[1;33m=\u001b[0m \u001b[0mnp\u001b[0m\u001b[1;33m.\u001b[0m\u001b[0marray\u001b[0m\u001b[1;33m(\u001b[0m\u001b[0mself\u001b[0m\u001b[1;33m.\u001b[0m\u001b[0mindex\u001b[0m\u001b[1;33m.\u001b[0m\u001b[0mcodes\u001b[0m\u001b[1;33m[\u001b[0m\u001b[0mlevel\u001b[0m\u001b[1;33m]\u001b[0m\u001b[1;33m,\u001b[0m \u001b[0msubok\u001b[0m\u001b[1;33m=\u001b[0m\u001b[1;32mFalse\u001b[0m\u001b[1;33m,\u001b[0m \u001b[0mcopy\u001b[0m\u001b[1;33m=\u001b[0m\u001b[1;32mTrue\u001b[0m\u001b[1;33m)\u001b[0m\u001b[1;33m\u001b[0m\u001b[1;33m\u001b[0m\u001b[0m\n\u001b[0;32m   1581\u001b[0m \u001b[1;33m\u001b[0m\u001b[0m\n",
      "\u001b[1;31mAttributeError\u001b[0m: 'Int64Index' object has no attribute 'levels'"
     ]
    }
   ],
   "source": [
    "df_di['user_type_contributor'].count()"
   ]
  },
  {
   "cell_type": "code",
   "execution_count": 230,
   "metadata": {},
   "outputs": [],
   "source": [
    "df_di.dropna(subset=['active_mins','active_mins_pre'],inplace = True)"
   ]
  },
  {
   "cell_type": "code",
   "execution_count": 289,
   "metadata": {},
   "outputs": [
    {
     "name": "stdout",
     "output_type": "stream",
     "text": [
      "[]\n"
     ]
    }
   ],
   "source": [
    "stats_di = []\n",
    "print(stats_di[:2])"
   ]
  },
  {
   "cell_type": "markdown",
   "metadata": {},
   "source": [
    "Gender: male"
   ]
  },
  {
   "cell_type": "code",
   "execution_count": 290,
   "metadata": {},
   "outputs": [
    {
     "name": "stdout",
     "output_type": "stream",
     "text": [
      "Pre & Post mean of male without treatment: 602.397212543554, 555.5939573290058\n",
      "p-value:0.016467410365490737\n"
     ]
    }
   ],
   "source": [
    "idx = (df_di['variant_number']==0) & (df_di['gender_male'] == 1)\n",
    "X1 = df_di[idx]['active_mins_pre']\n",
    "X2 = df_di[idx]['active_mins']\n",
    "print(\"Pre & Post mean of male without treatment: {}, {}\".format(X1.mean(),X2.mean()))\n",
    "t_stat,p_value = stats.ttest_ind(X1,X2,equal_var = False,nan_policy='omit')\n",
    "print(\"p-value:{}\".format(p_value))\n",
    "stats_di.append([0,'male',-(X1.mean()-X2.mean()),p_value])"
   ]
  },
  {
   "cell_type": "code",
   "execution_count": 291,
   "metadata": {},
   "outputs": [
    {
     "name": "stdout",
     "output_type": "stream",
     "text": [
      "[[0, 'male', -46.803255214548244, 0.016467410365490737]]\n"
     ]
    }
   ],
   "source": [
    "print(stats_di)"
   ]
  },
  {
   "cell_type": "code",
   "execution_count": 292,
   "metadata": {},
   "outputs": [
    {
     "name": "stdout",
     "output_type": "stream",
     "text": [
      "Pre & Post mean of male without treatment: 341.80054644808746, 534.5480093676815\n",
      "p-value:1.7600610401407062e-09\n"
     ]
    }
   ],
   "source": [
    "# treatment\n",
    "idx = (df_di['variant_number']==1) & (df_di['gender_male'] == 1)\n",
    "X1 = df_di[idx]['active_mins_pre']\n",
    "X2 = df_di[idx]['active_mins']\n",
    "print(\"Pre & Post mean of male without treatment: {}, {}\".format(X1.mean(),X2.mean()))\n",
    "t_stat,p_value = stats.ttest_ind(X1,X2,equal_var = False,nan_policy='omit')\n",
    "print(\"p-value:{}\".format(p_value))\n",
    "stats_di.append([1,'male',-(X1.mean()-X2.mean()),p_value])"
   ]
  },
  {
   "cell_type": "code",
   "execution_count": 293,
   "metadata": {},
   "outputs": [
    {
     "name": "stdout",
     "output_type": "stream",
     "text": [
      "[[0, 'male', -46.803255214548244, 0.016467410365490737], [1, 'male', 192.74746291959406, 1.7600610401407062e-09]]\n"
     ]
    }
   ],
   "source": [
    "print(stats_di)"
   ]
  },
  {
   "cell_type": "markdown",
   "metadata": {},
   "source": [
    "Gender:Female"
   ]
  },
  {
   "cell_type": "code",
   "execution_count": 294,
   "metadata": {},
   "outputs": [
    {
     "name": "stdout",
     "output_type": "stream",
     "text": [
      "Pre & Post mean: 388.0013085335078, 347.29563510608466\n",
      "p-value:0.03683908680646737\n"
     ]
    }
   ],
   "source": [
    "idx = (df_di['variant_number']==0) & (df_di['gender_female'] == 1)\n",
    "X1 = df_di[idx]['active_mins_pre']\n",
    "X2 = df_di[idx]['active_mins']\n",
    "print(\"Pre & Post mean: {}, {}\".format(X1.mean(),X2.mean()))\n",
    "t_stat,p_value = stats.ttest_ind(X1,X2,equal_var = False,nan_policy='omit')\n",
    "print(\"p-value:{}\".format(p_value))\n",
    "stats_di.append([0,'female',-(X1.mean()-X2.mean()),p_value])"
   ]
  },
  {
   "cell_type": "code",
   "execution_count": 295,
   "metadata": {},
   "outputs": [
    {
     "name": "stdout",
     "output_type": "stream",
     "text": [
      "Pre & Post mean: 224.61574074074073, 355.52777777777777\n",
      "p-value:1.2670504456974684e-05\n"
     ]
    }
   ],
   "source": [
    "idx = (df_di['variant_number']==1) & (df_di['gender_female'] == 1)\n",
    "X1 = df_di[idx]['active_mins_pre']\n",
    "X2 = df_di[idx]['active_mins']\n",
    "print(\"Pre & Post mean: {}, {}\".format(X1.mean(),X2.mean()))\n",
    "t_stat,p_value = stats.ttest_ind(X1,X2,equal_var = False,nan_policy='omit')\n",
    "print(\"p-value:{}\".format(p_value))\n",
    "stats_di.append([1,'female',-(X1.mean()-X2.mean()),p_value])"
   ]
  },
  {
   "cell_type": "markdown",
   "metadata": {},
   "source": [
    "Gender:Unknown"
   ]
  },
  {
   "cell_type": "code",
   "execution_count": 296,
   "metadata": {},
   "outputs": [
    {
     "name": "stdout",
     "output_type": "stream",
     "text": [
      "Pre & Post mean controled group: 377.8352463358644, 316.2689387250574\n",
      "p-value:0.018511537943603502\n"
     ]
    }
   ],
   "source": [
    "idx = (df_di['variant_number']==0) & (df_di['gender_unknown'] == 1)\n",
    "X1 = df_di[idx]['active_mins_pre']\n",
    "X2 = df_di[idx]['active_mins']\n",
    "print(\"Pre & Post mean controled group: {}, {}\".format(X1.mean(),X2.mean()))\n",
    "t_stat,p_value = stats.ttest_ind(X1,X2,equal_var = False,nan_policy='omit')\n",
    "print(\"p-value:{}\".format(p_value))\n",
    "stats_di.append([0,'unknown',-(X1.mean()-X2.mean()),p_value])"
   ]
  },
  {
   "cell_type": "code",
   "execution_count": 297,
   "metadata": {},
   "outputs": [
    {
     "name": "stdout",
     "output_type": "stream",
     "text": [
      "Pre & Post mean treated group: 260.5369220151829, 386.2049689440994\n",
      "p-value:0.006611247561988228\n"
     ]
    }
   ],
   "source": [
    "idx = (df_di['variant_number']==1) & (df_di['gender_unknown'] == 1)\n",
    "X1 = df_di[idx]['active_mins_pre']\n",
    "X2 = df_di[idx]['active_mins']\n",
    "print(\"Pre & Post mean treated group: {}, {}\".format(X1.mean(),X2.mean()))\n",
    "t_stat,p_value = stats.ttest_ind(X1,X2,equal_var = False,nan_policy='omit')\n",
    "print(\"p-value:{}\".format(p_value))\n",
    "stats_di.append([1,'unknown',-(X1.mean()-X2.mean()),p_value])"
   ]
  },
  {
   "cell_type": "markdown",
   "metadata": {},
   "source": [
    "User Type: Contributor"
   ]
  },
  {
   "cell_type": "code",
   "execution_count": 298,
   "metadata": {},
   "outputs": [
    {
     "name": "stdout",
     "output_type": "stream",
     "text": [
      "Pre & Post mean controled group: 4967.09220636663, 4309.835345773875\n",
      "p-value:0.029845033006230495\n"
     ]
    }
   ],
   "source": [
    "idx = (df_di['variant_number']==0) & (df_di['user_type_contributor'] == 1)\n",
    "X1 = df_di[idx]['active_mins_pre']\n",
    "X2 = df_di[idx]['active_mins']\n",
    "print(\"Pre & Post mean controled group: {}, {}\".format(X1.mean(),X2.mean()))\n",
    "t_stat,p_value = stats.ttest_ind(X1,X2,equal_var = False,nan_policy='omit')\n",
    "print(\"p-value:{}\".format(p_value))\n",
    "stats_di.append([0,'Contributor',-(X1.mean()-X2.mean()),p_value])"
   ]
  },
  {
   "cell_type": "code",
   "execution_count": 299,
   "metadata": {},
   "outputs": [
    {
     "name": "stdout",
     "output_type": "stream",
     "text": [
      "Pre & Post mean controled group: 3231.299212598425, 4708.031496062992\n",
      "p-value:0.06580880513818083\n"
     ]
    }
   ],
   "source": [
    "idx = (df_di['variant_number']==1) & (df_di['user_type_contributor'] == 1)\n",
    "X1 = df_di[idx]['active_mins_pre']\n",
    "X2 = df_di[idx]['active_mins']\n",
    "print(\"Pre & Post mean controled group: {}, {}\".format(X1.mean(),X2.mean()))\n",
    "t_stat,p_value = stats.ttest_ind(X1,X2,equal_var = False,nan_policy='omit')\n",
    "print(\"p-value:{}\".format(p_value))\n",
    "stats_di.append([1,'Contributor',-(X1.mean()-X2.mean()),p_value])"
   ]
  },
  {
   "cell_type": "markdown",
   "metadata": {},
   "source": [
    "User Type: New User"
   ]
  },
  {
   "cell_type": "code",
   "execution_count": 300,
   "metadata": {},
   "outputs": [
    {
     "name": "stdout",
     "output_type": "stream",
     "text": [
      "Pre & Post mean controled group: 6.105562855891371, 29.132720105124836\n",
      "p-value:1.0159524413376105e-12\n"
     ]
    }
   ],
   "source": [
    "idx = (df_di['variant_number']==0) & (df_di['user_type_new_user'] == 1)\n",
    "X1 = df_di[idx]['active_mins_pre']\n",
    "X2 = df_di[idx]['active_mins']\n",
    "print(\"Pre & Post mean controled group: {}, {}\".format(X1.mean(),X2.mean()))\n",
    "t_stat,p_value = stats.ttest_ind(X1,X2,equal_var = False,nan_policy='omit')\n",
    "print(\"p-value:{}\".format(p_value))\n",
    "stats_di.append([0,'New User',-(X1.mean()-X2.mean()),p_value])"
   ]
  },
  {
   "cell_type": "code",
   "execution_count": 301,
   "metadata": {},
   "outputs": [
    {
     "name": "stdout",
     "output_type": "stream",
     "text": [
      "Pre & Post mean controled group: 6.487012987012987, 54.62337662337662\n",
      "p-value:5.585057715892592e-10\n"
     ]
    }
   ],
   "source": [
    "idx = (df_di['variant_number']==1) & (df_di['user_type_new_user'] == 1)\n",
    "X1 = df_di[idx]['active_mins_pre']\n",
    "X2 = df_di[idx]['active_mins']\n",
    "print(\"Pre & Post mean controled group: {}, {}\".format(X1.mean(),X2.mean()))\n",
    "t_stat,p_value = stats.ttest_ind(X1,X2,equal_var = False,nan_policy='omit')\n",
    "print(\"p-value:{}\".format(p_value))\n",
    "stats_di.append([1,'New User',-(X1.mean()-X2.mean()),p_value])"
   ]
  },
  {
   "cell_type": "markdown",
   "metadata": {},
   "source": [
    "User Type: Non-Reader"
   ]
  },
  {
   "cell_type": "code",
   "execution_count": 302,
   "metadata": {},
   "outputs": [
    {
     "name": "stdout",
     "output_type": "stream",
     "text": [
      "Pre & Post mean controled group: 108.01035211781002, 104.92367135671066\n",
      "p-value:0.2667925473559042\n"
     ]
    }
   ],
   "source": [
    "idx = (df_di['variant_number']==0) & (df_di['user_type_non_reader'] == 1)\n",
    "X1 = df_di[idx]['active_mins_pre']\n",
    "X2 = df_di[idx]['active_mins']\n",
    "print(\"Pre & Post mean controled group: {}, {}\".format(X1.mean(),X2.mean()))\n",
    "t_stat,p_value = stats.ttest_ind(X1,X2,equal_var = False,nan_policy='omit')\n",
    "print(\"p-value:{}\".format(p_value))\n",
    "stats_di.append([0,'Non-Reader',-(X1.mean()-X2.mean()),p_value])"
   ]
  },
  {
   "cell_type": "code",
   "execution_count": 303,
   "metadata": {},
   "outputs": [
    {
     "name": "stdout",
     "output_type": "stream",
     "text": [
      "Pre & Post mean controled group: 99.44206621004567, 164.45462328767124\n",
      "p-value:6.108660456222139e-29\n"
     ]
    }
   ],
   "source": [
    "idx = (df_di['variant_number']==1) & (df_di['user_type_non_reader'] == 1)\n",
    "X1 = df_di[idx]['active_mins_pre']\n",
    "X2 = df_di[idx]['active_mins']\n",
    "print(\"Pre & Post mean controled group: {}, {}\".format(X1.mean(),X2.mean()))\n",
    "t_stat,p_value = stats.ttest_ind(X1,X2,equal_var = False,nan_policy='omit')\n",
    "print(\"p-value:{}\".format(p_value))\n",
    "stats_di.append([1,'Non-Reader',-(X1.mean()-X2.mean()),p_value])"
   ]
  },
  {
   "cell_type": "markdown",
   "metadata": {},
   "source": [
    "User Type: Reader"
   ]
  },
  {
   "cell_type": "code",
   "execution_count": 304,
   "metadata": {},
   "outputs": [
    {
     "name": "stdout",
     "output_type": "stream",
     "text": [
      "Pre & Post mean controled group: 1706.7486910994764, 1537.135377711294\n",
      "p-value:0.00021751295197818286\n"
     ]
    }
   ],
   "source": [
    "idx = (df_di['variant_number']==0) & (df_di['user_type_reader'] == 1)\n",
    "X1 = df_di[idx]['active_mins_pre']\n",
    "X2 = df_di[idx]['active_mins']\n",
    "print(\"Pre & Post mean controled group: {}, {}\".format(X1.mean(),X2.mean()))\n",
    "t_stat,p_value = stats.ttest_ind(X1,X2,equal_var = False,nan_policy='omit')\n",
    "print(\"p-value:{}\".format(p_value))\n",
    "stats_di.append([0,'Reader',-(X1.mean()-X2.mean()),p_value])"
   ]
  },
  {
   "cell_type": "code",
   "execution_count": 305,
   "metadata": {},
   "outputs": [
    {
     "name": "stdout",
     "output_type": "stream",
     "text": [
      "Pre & Post mean controled group: 1268.926984126984, 1926.734126984127\n",
      "p-value:3.2363279209316743e-10\n"
     ]
    }
   ],
   "source": [
    "idx = (df_di['variant_number']==1) & (df_di['user_type_reader'] == 1)\n",
    "X1 = df_di[idx]['active_mins_pre']\n",
    "X2 = df_di[idx]['active_mins']\n",
    "print(\"Pre & Post mean controled group: {}, {}\".format(X1.mean(),X2.mean()))\n",
    "t_stat,p_value = stats.ttest_ind(X1,X2,equal_var = False,nan_policy='omit')\n",
    "print(\"p-value:{}\".format(p_value))\n",
    "stats_di.append([1,'Reader',-(X1.mean()-X2.mean()),p_value])"
   ]
  },
  {
   "cell_type": "code",
   "execution_count": 307,
   "metadata": {},
   "outputs": [],
   "source": [
    "df_stats = pd.DataFrame(stats_di,columns = ['variant_number','group','diff_mean','p_value'])"
   ]
  },
  {
   "cell_type": "code",
   "execution_count": 355,
   "metadata": {},
   "outputs": [],
   "source": [
    "df_stats['p_sign'] = [1 if i < 0.01 else 0 for i in df_stats['p_value']]"
   ]
  },
  {
   "cell_type": "code",
   "execution_count": 361,
   "metadata": {},
   "outputs": [
    {
     "data": {
      "text/plain": [
       "<matplotlib.legend.Legend at 0x1d7ac3fdfd0>"
      ]
     },
     "execution_count": 361,
     "metadata": {},
     "output_type": "execute_result"
    },
    {
     "data": {
      "image/png": "[encoded data removed]",
      "text/plain": [
       "<Figure size 576x432 with 2 Axes>"
      ]
     },
     "metadata": {
      "needs_background": "light"
     },
     "output_type": "display_data"
    },
    {
     "data": {
      "image/png": "[encoded data removed]",
      "text/plain": [
       "<Figure size 447.25x360 with 1 Axes>"
      ]
     },
     "metadata": {
      "needs_background": "light"
     },
     "output_type": "display_data"
    }
   ],
   "source": [
    "fig, (ax1,ax2) = plt.subplots(2,1,figsize=(8,6))\n",
    "sns.barplot(x = 'group',y='diff_mean',hue = 'variant_number',data = df_stats,ax =ax1)\n",
    "ax1.set_xlabel('')\n",
    "ax1.grid(axis = 'y')\n",
    "ax1.legend(loc='center left', bbox_to_anchor=(1, 0.5))\n",
    "# ax1.set_yscale('log')\n",
    "sns.catplot(x = 'group',y='p_sign',hue = 'variant_number',data = df_stats,ax =ax2)\n",
    "ax2.set_ylabel('p-significance')\n",
    "ax2.set_xlabel('')\n",
    "ax2.set_yticks([0,1])\n",
    "ax2.legend(loc='center left', bbox_to_anchor=(1, 0.5))"
   ]
  },
  {
   "cell_type": "code",
   "execution_count": 335,
   "metadata": {},
   "outputs": [],
   "source": [
    "# fig, ax = plt.subplots(figsize=(10,5))\n",
    "# sns.barplot(x = 'group',y='p_value',hue = 'variant_number',data = df_stats,ax =ax)"
   ]
  },
  {
   "cell_type": "code",
   "execution_count": null,
   "metadata": {},
   "outputs": [],
   "source": []
  },
  {
   "cell_type": "code",
   "execution_count": 336,
   "metadata": {},
   "outputs": [],
   "source": [
    "# fig, ax = plt.subplots(figsize=(8,5))\n"
   ]
  },
  {
   "cell_type": "code",
   "execution_count": null,
   "metadata": {},
   "outputs": [],
   "source": []
  }
 ],
 "metadata": {
  "kernelspec": {
   "display_name": "Python 3",
   "language": "python",
   "name": "python3"
  },
  "language_info": {
   "codemirror_mode": {
    "name": "ipython",
    "version": 3
   },
   "file_extension": ".py",
   "mimetype": "text/x-python",
   "name": "python",
   "nbconvert_exporter": "python",
   "pygments_lexer": "ipython3",
   "version": "3.7.3"
  }
 },
 "nbformat": 4,
 "nbformat_minor": 2
}
